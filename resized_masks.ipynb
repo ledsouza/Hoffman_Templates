{
 "cells": [
  {
   "cell_type": "code",
   "execution_count": 39,
   "metadata": {},
   "outputs": [],
   "source": [
    "import pydicom\n",
    "import glob\n",
    "import numpy as np\n",
    "import datetime\n",
    "import tifffile as tiff\n",
    "import cv2 as cv\n",
    "import plotly.express as px"
   ]
  },
  {
   "cell_type": "code",
   "execution_count": 40,
   "metadata": {},
   "outputs": [],
   "source": [
    "def get_images_data(path: str) -> tuple[np.ndarray, list[str]]:\n",
    "    \"\"\"\n",
    "    Carrega as imagens DICOM de um diretório e retorna um array NumPy contendo\n",
    "    os dados de pixel das imagens e uma lista de nomes de arquivo.\n",
    "\n",
    "    Args:\n",
    "        path (str): Caminho para o diretório contendo os arquivos DICOM.\n",
    "\n",
    "    Returns:\n",
    "        Tuple[np.ndarray, List[str]]: Uma tupla contendo o array NumPy com os\n",
    "        dados de pixel das imagens e uma lista de nomes de arquivo.\n",
    "\n",
    "    Raises:\n",
    "        FileNotFoundError: Se o caminho para o diretório especificado não existir.\n",
    "    \"\"\"\n",
    "    files = glob.glob(path + '/*.dcm') # Obtendo uma lista de todos os arquivos DICOM no diretório\n",
    "    #files.sort() # Organizando os arquivos em ordem ascendente\n",
    "    image_data = []\n",
    "    for i in range(len(files)): # Carregando as imagens DICOM\n",
    "        ds = pydicom.dcmread(files[i])\n",
    "        image_data.append(ds.pixel_array)\n",
    "    return np.asarray(image_data), files"
   ]
  },
  {
   "cell_type": "code",
   "execution_count": 41,
   "metadata": {},
   "outputs": [],
   "source": [
    "def create_DICOM(image_array: np.ndarray, series_description: str, output_path: str):\n",
    "    \"\"\"\n",
    "    Cria um novo conjunto de dados DICOM a partir de uma matriz de imagem e uma descrição da série.\n",
    "\n",
    "    Args:\n",
    "        image_array (np.ndarray): Matriz de imagem (2D) representando a imagem a ser convertida para DICOM.\n",
    "        series_description (str): Descrição da série DICOM.\n",
    "        output_path (str): Caminho em que será salvo os arquivos.\n",
    "\n",
    "    Returns:\n",
    "        None\n",
    "    \"\"\"\n",
    "\n",
    "    # Criar um novo conjunto de dados DICOM\n",
    "    ds = pydicom.Dataset()\n",
    "\n",
    "    # Definir tags DICOM para campos obrigatórios\n",
    "    ds.SeriesDescription = series_description\n",
    "    ds.Rows = image_array.shape[0]\n",
    "    ds.Columns = image_array.shape[1]\n",
    "    ds.PixelSpacing = [1.5625, 1.5625]\n",
    "    ds.SliceThickness = 3.27\n",
    "    ds.BitsAllocated = 8\n",
    "    ds.BitsStored = 8\n",
    "    ds.HighBit = 7\n",
    "    ds.PixelRepresentation = 0\n",
    "    ds.SamplesPerPixel = 1\n",
    "    ds.PhotometricInterpretation = \"MONOCHROME2\"\n",
    "\n",
    "    # Converter o array NumPy em bytes\n",
    "    image_bytes = image_array.tobytes()\n",
    "\n",
    "    # Atribuir a imagem em bytes no atributo PixelData\n",
    "    ds.PixelData = image_bytes\n",
    "\n",
    "    # Definir endianness e VR encoding\n",
    "    ds.is_little_endian = True\n",
    "    ds.is_implicit_VR = True\n",
    "\n",
    "    # Criar o conjunto de dados FMI\n",
    "    fmi = pydicom.dataset.FileMetaDataset()\n",
    "    fmi.MediaStorageSOPClassUID = '1.2.840.10008.5.1.4.1.1.7'  # CT Image Storage\n",
    "    fmi.MediaStorageSOPInstanceUID = '1.2.3.4.5.6.7.8.9.0'  # UID único\n",
    "    fmi.TransferSyntaxUID = '1.2.840.10008.1.2.1'  # Explicit VR Little Endian\n",
    "    \n",
    "    # Atribuir o conjunto de dados FMI no conjunto de dados principal\n",
    "    ds.file_meta = fmi\n",
    "\n",
    "    # Definir a data e horário de criação\n",
    "    dt = datetime.datetime.now()\n",
    "    ds.ContentDate = dt.strftime('%Y%m%d')\n",
    "    timeStr = dt.strftime('%H%M%S.%f')  # formato longo com micro segundos\n",
    "    ds.ContentTime = timeStr\n",
    "\n",
    "    # Salvar o conjunto de dados DICOM em um arquivo\n",
    "    filename = series_description + '.dcm'\n",
    "    ds.save_as(output_path + filename)"
   ]
  },
  {
   "cell_type": "code",
   "execution_count": 42,
   "metadata": {},
   "outputs": [],
   "source": [
    "# Ler as imagens de referência\n",
    "path = 'G:/My Drive/Projetos Python/Image Processing/Analise_de_Uniformidade_e_Ruido/dados/Cilindrico J-ADNI HCPA/CILINDRICO J-ADNI/VPFX-S2i32s3mm'\n",
    "ref_images, file_names = get_images_data(path)"
   ]
  },
  {
   "cell_type": "code",
   "execution_count": 43,
   "metadata": {},
   "outputs": [
    {
     "data": {
      "text/plain": [
       "('1.5625', '1.5625', '3.27')"
      ]
     },
     "execution_count": 43,
     "metadata": {},
     "output_type": "execute_result"
    }
   ],
   "source": [
    "# Verificar voxel size das imagens de referência\n",
    "ds = pydicom.dcmread(file_names[0])\n",
    "voxel_size = (ds.PixelSpacing[0], ds.PixelSpacing[1], ds.SliceThickness)\n",
    "voxel_size"
   ]
  },
  {
   "cell_type": "code",
   "execution_count": 44,
   "metadata": {},
   "outputs": [],
   "source": [
    "# Ler máscaras e salvar como DICOM\n",
    "path_list = glob.glob('G:/My Drive/Projetos Python/Image Processing/Hoffman_Templates/Mascaras/GM manipulada/*.tif')\n",
    "masks_list = []\n",
    "for path in path_list:\n",
    "  name = path.split('/')[-1].split('.')[0].split('\\\\')[-1]\n",
    "  masks = tiff.imread(path)\n",
    "  resize_masks = cv.resize(masks, (256, 256))\n",
    "  masks_list.append(resize_masks)\n",
    "  create_DICOM(resize_masks, name, 'G:/My Drive/Projetos Python/Image Processing/Hoffman_Templates/Mascaras/GM resized/')"
   ]
  },
  {
   "cell_type": "code",
   "execution_count": null,
   "metadata": {},
   "outputs": [],
   "source": [
    "# Ler DRO e salvar como DICOM\n",
    "path_list = glob.glob('G:/My Drive/Projetos Python/Image Processing/DATA SPECTRUM DIGITAL PHANTOM/JSNM mask/*.tif')\n",
    "dro_list = []\n",
    "for path in path_list:\n",
    "  name = path.split('/')[-1].split('.')[0].split('\\\\')[-1]\n",
    "  dro = tiff.imread(path)\n",
    "  channels = cv.split(dro)\n",
    "  dro = cv.merge([channels[0]]) \n",
    "  resize_dro = cv.resize(dro, (256, 256))\n",
    "  dro_list.append(resize_dro)\n",
    "  create_DICOM(resize_dro, name, 'G:/My Drive/Projetos Python/Image Processing/DATA SPECTRUM DIGITAL PHANTOM/resized DRO/')"
   ]
  }
 ],
 "metadata": {
  "kernelspec": {
   "display_name": "base",
   "language": "python",
   "name": "python3"
  },
  "language_info": {
   "codemirror_mode": {
    "name": "ipython",
    "version": 3
   },
   "file_extension": ".py",
   "mimetype": "text/x-python",
   "name": "python",
   "nbconvert_exporter": "python",
   "pygments_lexer": "ipython3",
   "version": "3.9.13"
  },
  "orig_nbformat": 4
 },
 "nbformat": 4,
 "nbformat_minor": 2
}
