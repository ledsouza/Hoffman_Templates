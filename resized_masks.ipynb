{
 "cells": [
  {
   "cell_type": "code",
   "execution_count": 122,
   "metadata": {},
   "outputs": [],
   "source": [
    "import pydicom\n",
    "import glob\n",
    "import numpy as np\n",
    "import datetime\n",
    "import tifffile as tiff\n",
    "import cv2 as cv\n",
    "import plotly.express as px"
   ]
  },
  {
   "cell_type": "code",
   "execution_count": 123,
   "metadata": {},
   "outputs": [],
   "source": [
    "def get_images_data(path: str) -> tuple[np.ndarray, list[str]]:\n",
    "    \"\"\"\n",
    "    Carrega as imagens DICOM de um diretório e retorna um array NumPy contendo\n",
    "    os dados de pixel das imagens e uma lista de nomes de arquivo.\n",
    "\n",
    "    Args:\n",
    "        path (str): Caminho para o diretório contendo os arquivos DICOM.\n",
    "\n",
    "    Returns:\n",
    "        Tuple[np.ndarray, List[str]]: Uma tupla contendo o array NumPy com os\n",
    "        dados de pixel das imagens e uma lista de nomes de arquivo.\n",
    "\n",
    "    Raises:\n",
    "        FileNotFoundError: Se o caminho para o diretório especificado não existir.\n",
    "    \"\"\"\n",
    "    files = glob.glob(path + '/*.dcm') # Obtendo uma lista de todos os arquivos DICOM no diretório\n",
    "    #files.sort() # Organizando os arquivos em ordem ascendente\n",
    "    image_data = []\n",
    "    for i in range(len(files)): # Carregando as imagens DICOM\n",
    "        ds = pydicom.dcmread(files[i])\n",
    "        image_data.append(ds.pixel_array)\n",
    "    return np.asarray(image_data), files"
   ]
  },
  {
   "cell_type": "code",
   "execution_count": 124,
   "metadata": {},
   "outputs": [],
   "source": [
    "def create_DICOM(image_array: np.ndarray, Series_Description: str, output_path: str):\n",
    "    \"\"\"Cria um novo conjunto de dados DICOM a partir de uma matriz de imagem e uma descrição da série.\n",
    "\n",
    "    Args:\n",
    "        image_array (np.ndarray): Matriz de imagem (2D) representando a imagem a ser convertida para DICOM.\n",
    "        Series_Description (str): Descrição da série DICOM.\n",
    "\n",
    "    Returns:\n",
    "        None\n",
    "    \"\"\"\n",
    "\n",
    "    # Criar um novo conjunto de dados DICOM\n",
    "    ds = pydicom.Dataset()\n",
    "\n",
    "    # Definir tags DICOM para campos obrigatórios\n",
    "    ds.SeriesDescription = Series_Description\n",
    "    ds.Rows = image_array.shape[0]\n",
    "    ds.Columns = image_array.shape[1]\n",
    "    ds.PixelSpacing = [1.5625, 1.5625]\n",
    "    ds.SliceThickness = 3.27\n",
    "    ds.BitsAllocated = 8\n",
    "    ds.BitsStored = 8\n",
    "    ds.HighBit = 7\n",
    "    ds.PixelRepresentation = 0\n",
    "    ds.SamplesPerPixel = 1\n",
    "    ds.PhotometricInterpretation = \"MONOCHROME2\"\n",
    "\n",
    "    # Converter o array NumPy em bytes\n",
    "    image_bytes = image_array.tobytes()\n",
    "\n",
    "    # Atribuir a imagem em bytes no atributo PixelData\n",
    "    ds.PixelData = image_bytes\n",
    "\n",
    "    # Definir endianness e VR encoding\n",
    "    ds.is_little_endian = True\n",
    "    ds.is_implicit_VR = True\n",
    "\n",
    "    # Criar o conjunto de dados FMI\n",
    "    fmi = pydicom.dataset.FileMetaDataset()\n",
    "    fmi.MediaStorageSOPClassUID = '1.2.840.10008.5.1.4.1.1.7'  # CT Image Storage\n",
    "    fmi.MediaStorageSOPInstanceUID = '1.2.3.4.5.6.7.8.9.0'  # UID único\n",
    "    fmi.TransferSyntaxUID = '1.2.840.10008.1.2.1'  # Explicit VR Little Endian\n",
    "    \n",
    "    # Atribuir o conjunto de dados FMI no conjunto de dados principal\n",
    "    ds.file_meta = fmi\n",
    "\n",
    "    # Definir a data e horário de criação\n",
    "    dt = datetime.datetime.now()\n",
    "    ds.ContentDate = dt.strftime('%Y%m%d')\n",
    "    timeStr = dt.strftime('%H%M%S.%f')  # formato longo com micro segundos\n",
    "    ds.ContentTime = timeStr\n",
    "\n",
    "    # Salvar o conjunto de dados DICOM em um arquivo\n",
    "    filename = Series_Description + '.dcm'\n",
    "    ds.save_as(output_path + filename)"
   ]
  },
  {
   "cell_type": "code",
   "execution_count": 125,
   "metadata": {},
   "outputs": [],
   "source": [
    "# Ler as imagens de referência\n",
    "path = 'G:/My Drive/Projetos Python/Image Processing/Analise_de_Uniformidade_e_Ruido/dados/Cilindrico J-ADNI HCPA/CILINDRICO J-ADNI/VPFX-S2i32s3mm'\n",
    "ref_images, file_names = get_images_data(path)"
   ]
  },
  {
   "cell_type": "code",
   "execution_count": 126,
   "metadata": {},
   "outputs": [
    {
     "data": {
      "text/plain": [
       "('1.5625', '1.5625', '3.27')"
      ]
     },
     "execution_count": 126,
     "metadata": {},
     "output_type": "execute_result"
    }
   ],
   "source": [
    "# Verificar voxel size das imagens de referência\n",
    "ds = pydicom.dcmread(file_names[0])\n",
    "voxel_size = (ds.PixelSpacing[0], ds.PixelSpacing[1], ds.SliceThickness)\n",
    "voxel_size"
   ]
  },
  {
   "cell_type": "code",
   "execution_count": 127,
   "metadata": {},
   "outputs": [],
   "source": [
    "# Ler máscaras\n",
    "path_list = glob.glob('G:/My Drive/Projetos Python/Image Processing/Hoffman_Templates/Mascaras/GM manipulada/*.tif')\n",
    "masks_list = []\n",
    "for path in path_list:\n",
    "  name = path.split('/')[-1].split('.')[0].split('\\\\')[-1]\n",
    "  masks = tiff.imread(path)\n",
    "  resize_masks = cv.resize(masks, (256, 256))\n",
    "  masks_list.append(resize_masks)\n",
    "  create_DICOM(resize_masks, name, 'G:/My Drive/Projetos Python/Image Processing/Hoffman_Templates/Mascaras/GM resized/')\n",
    "masks_list = np.asarray(masks_list)"
   ]
  },
  {
   "cell_type": "code",
   "execution_count": 128,
   "metadata": {},
   "outputs": [
    {
     "data": {
      "text/plain": [
       "(256, 256)"
      ]
     },
     "execution_count": 128,
     "metadata": {},
     "output_type": "execute_result"
    }
   ],
   "source": [
    "masks_list[0].shape"
   ]
  },
  {
   "cell_type": "code",
   "execution_count": 129,
   "metadata": {},
   "outputs": [
    {
     "data": {
      "application/vnd.plotly.v1+json": {
       "config": {
        "plotlyServerURL": "https://plot.ly"
       },
       "data": [
        {
         "hovertemplate": "x: %{x}<br>y: %{y}<br>color: %{z}<extra></extra>",
         "name": "0",
         "source": "data:image/png;base64,iVBORw0KGgoAAAANSUhEUgAAAQAAAAEACAAAAAB5Gfe6AAADEklEQVR4Xu3bP0jUcRjH8edSSqmgGnToHxYR1BBRQkouhjQ0pEOEDUZESA21RU6RRA2NLS39oSUIoj9DQ4MQhARuV0RB4RKZBDoE/uFnPA2ed7/7/M5T5P749d6v6Xiezxd8nt+hP/2dZgAAAAAAAAAAAAAAAAAAAAAAAAAAAAAAAAAAAAAAAAAAAAAAAAAAAAAAAAAAAAAAVF1KCxW14+DCq+G/8XoFVXMBfefyFjB2Id6sAdtc3NbEGpdYgGuiEtZpoXI2asEiLVRAFb8HJC94tF4r5VfFd8DqwAK0UGtW1QJSe7VSfqtqAfX9Wim/Ki5g66RWas2xGbkRmmvXyFp3MYqiKIr+ubt7FE1pvwKqeCOUc+Kkmdl1LQMAAAAAAAAAgBrS4u6+uV7LJVX2ByOnjpgNanF5ul+amdnT81IPyfPJGXefXNFj0EOzmUeGw9oJRve9zAj+dZf2lrZw1v2RtgLRM52bYVSbS8sdTn6cKgR7OmMTuI/t1MAS3scOay8Em77FBnB3v6qJJYS+gC2xr38lU3TnDs6e0WYIkgu4r5Gi3uYOftZeEJILcG/R0KLqRmPHtBmGxg+xERac1tRi3sRPaTMQt+IzZEwf1VRBN3/nndJ2SZXvY3KfnmnFrGGkdxl3RL2tzVoKU+uPvAs577umEu7oEQ0EREdxd/+zXVP52vRAyAsY1Fnc3dN1GsszpPmQF9Cls8x7XORX/I8aDnoBu7/oMPMeajDr8C/NBr2Awt8FvMhMZzXpRcIhaErrOO7u/lpzGZc06O4vNBSW5D/HubtPtWnOzMz65zToPtSgqZIq341QxkQq9WREi9a4QStmZqn25A+Id50zWgpP03G9rJ7WjJlZvabcfb+GApX96+CCA5qwggsY0EywrslkEx2aKLgAjYRsfHw8Plqf9gstoFEjJVfknqzUms1u2F2t1pqO7MUt8A6wgdjFd/dKvAPK/mgsqafLLP1Aq2Zm1tVzOfv61ZhdibXKpQoLKGpf9tXP6VgZAAAAAAAAAAAAAAAAAAAAAAAAAAAAAFDUf+3gXVYWsba2AAAAAElFTkSuQmCC",
         "type": "image",
         "xaxis": "x",
         "yaxis": "y"
        }
       ],
       "frames": [
        {
         "data": [
          {
           "name": "0",
           "source": "data:image/png;base64,iVBORw0KGgoAAAANSUhEUgAAAQAAAAEACAAAAAB5Gfe6AAADEklEQVR4Xu3bP0jUcRjH8edSSqmgGnToHxYR1BBRQkouhjQ0pEOEDUZESA21RU6RRA2NLS39oSUIoj9DQ4MQhARuV0RB4RKZBDoE/uFnPA2ed7/7/M5T5P749d6v6Xiezxd8nt+hP/2dZgAAAAAAAAAAAAAAAAAAAAAAAAAAAAAAAAAAAAAAAAAAAAAAAAAAAAAAAAAAAAAAVF1KCxW14+DCq+G/8XoFVXMBfefyFjB2Id6sAdtc3NbEGpdYgGuiEtZpoXI2asEiLVRAFb8HJC94tF4r5VfFd8DqwAK0UGtW1QJSe7VSfqtqAfX9Wim/Ki5g66RWas2xGbkRmmvXyFp3MYqiKIr+ubt7FE1pvwKqeCOUc+Kkmdl1LQMAAAAAAAAAgBrS4u6+uV7LJVX2ByOnjpgNanF5ul+amdnT81IPyfPJGXefXNFj0EOzmUeGw9oJRve9zAj+dZf2lrZw1v2RtgLRM52bYVSbS8sdTn6cKgR7OmMTuI/t1MAS3scOay8Em77FBnB3v6qJJYS+gC2xr38lU3TnDs6e0WYIkgu4r5Gi3uYOftZeEJILcG/R0KLqRmPHtBmGxg+xERac1tRi3sRPaTMQt+IzZEwf1VRBN3/nndJ2SZXvY3KfnmnFrGGkdxl3RL2tzVoKU+uPvAs577umEu7oEQ0EREdxd/+zXVP52vRAyAsY1Fnc3dN1GsszpPmQF9Cls8x7XORX/I8aDnoBu7/oMPMeajDr8C/NBr2Awt8FvMhMZzXpRcIhaErrOO7u/lpzGZc06O4vNBSW5D/HubtPtWnOzMz65zToPtSgqZIq341QxkQq9WREi9a4QStmZqn25A+Id50zWgpP03G9rJ7WjJlZvabcfb+GApX96+CCA5qwggsY0EywrslkEx2aKLgAjYRsfHw8Plqf9gstoFEjJVfknqzUms1u2F2t1pqO7MUt8A6wgdjFd/dKvAPK/mgsqafLLP1Aq2Zm1tVzOfv61ZhdibXKpQoLKGpf9tXP6VgZAAAAAAAAAAAAAAAAAAAAAAAAAAAAAFDUf+3gXVYWsba2AAAAAElFTkSuQmCC",
           "type": "image"
          }
         ],
         "layout": {
          "margin": {
           "t": 60
          }
         },
         "name": "0"
        },
        {
         "data": [
          {
           "name": "1",
           "source": "data:image/png;base64,iVBORw0KGgoAAAANSUhEUgAAAQAAAAEACAAAAAB5Gfe6AAADEklEQVR4Xu3bP0jUcRjH8edSSqmgGnToHxYR1BBRQkouhjQ0pEOEDUZESA21RU6RRA2NLS39oSUIoj9DQ4MQhARuV0RB4RKZBDoE/uFnPA2ed7/7/M5T5P749d6v6Xiezxd8nt+hP/2dZgAAAAAAAAAAAAAAAAAAAAAAAAAAAAAAAAAAAAAAAAAAAAAAAAAAAAAAAAAAAAAAVF1KCxW14+DCq+G/8XoFVXMBfefyFjB2Id6sAdtc3NbEGpdYgGuiEtZpoXI2asEiLVRAFb8HJC94tF4r5VfFd8DqwAK0UGtW1QJSe7VSfqtqAfX9Wim/Ki5g66RWas2xGbkRmmvXyFp3MYqiKIr+ubt7FE1pvwKqeCOUc+Kkmdl1LQMAAAAAAAAAgBrS4u6+uV7LJVX2ByOnjpgNanF5ul+amdnT81IPyfPJGXefXNFj0EOzmUeGw9oJRve9zAj+dZf2lrZw1v2RtgLRM52bYVSbS8sdTn6cKgR7OmMTuI/t1MAS3scOay8Em77FBnB3v6qJJYS+gC2xr38lU3TnDs6e0WYIkgu4r5Gi3uYOftZeEJILcG/R0KLqRmPHtBmGxg+xERac1tRi3sRPaTMQt+IzZEwf1VRBN3/nndJ2SZXvY3KfnmnFrGGkdxl3RL2tzVoKU+uPvAs577umEu7oEQ0EREdxd/+zXVP52vRAyAsY1Fnc3dN1GsszpPmQF9Cls8x7XORX/I8aDnoBu7/oMPMeajDr8C/NBr2Awt8FvMhMZzXpRcIhaErrOO7u/lpzGZc06O4vNBSW5D/HubtPtWnOzMz65zToPtSgqZIq341QxkQq9WREi9a4QStmZqn25A+Id50zWgpP03G9rJ7WjJlZvabcfb+GApX96+CCA5qwggsY0EywrslkEx2aKLgAjYRsfHw8Plqf9gstoFEjJVfknqzUms1u2F2t1pqO7MUt8A6wgdjFd/dKvAPK/mgsqafLLP1Aq2Zm1tVzOfv61ZhdibXKpQoLKGpf9tXP6VgZAAAAAAAAAAAAAAAAAAAAAAAAAAAAAFDUf+3gXVYWsba2AAAAAElFTkSuQmCC",
           "type": "image"
          }
         ],
         "layout": {
          "margin": {
           "t": 60
          }
         },
         "name": "1"
        },
        {
         "data": [
          {
           "name": "2",
           "source": "data:image/png;base64,iVBORw0KGgoAAAANSUhEUgAAAQAAAAEACAAAAAB5Gfe6AAAAVElEQVR4Xu3BAQEAAACAkP6v7ggKAAAAAAAAAAAAAAAAAAAAAAAAAAAAAAAAAAAAAAAAAAAAAAAAAAAAAAAAAAAAAAAAAAAAAAAAAAAAAAAAAAAAGAEPAAGMhSm5AAAAAElFTkSuQmCC",
           "type": "image"
          }
         ],
         "layout": {
          "margin": {
           "t": 60
          }
         },
         "name": "2"
        },
        {
         "data": [
          {
           "name": "3",
           "source": "data:image/png;base64,iVBORw0KGgoAAAANSUhEUgAAAQAAAAEACAAAAAB5Gfe6AAAAVElEQVR4Xu3BAQEAAACAkP6v7ggKAAAAAAAAAAAAAAAAAAAAAAAAAAAAAAAAAAAAAAAAAAAAAAAAAAAAAAAAAAAAAAAAAAAAAAAAAAAAAAAAAAAAGAEPAAGMhSm5AAAAAElFTkSuQmCC",
           "type": "image"
          }
         ],
         "layout": {
          "margin": {
           "t": 60
          }
         },
         "name": "3"
        },
        {
         "data": [
          {
           "name": "4",
           "source": "data:image/png;base64,iVBORw0KGgoAAAANSUhEUgAAAQAAAAEACAAAAAB5Gfe6AAAAVElEQVR4Xu3BAQEAAACAkP6v7ggKAAAAAAAAAAAAAAAAAAAAAAAAAAAAAAAAAAAAAAAAAAAAAAAAAAAAAAAAAAAAAAAAAAAAAAAAAAAAAAAAAAAAGAEPAAGMhSm5AAAAAElFTkSuQmCC",
           "type": "image"
          }
         ],
         "layout": {
          "margin": {
           "t": 60
          }
         },
         "name": "4"
        },
        {
         "data": [
          {
           "name": "5",
           "source": "data:image/png;base64,iVBORw0KGgoAAAANSUhEUgAAAQAAAAEACAAAAAB5Gfe6AAAAVElEQVR4Xu3BAQEAAACAkP6v7ggKAAAAAAAAAAAAAAAAAAAAAAAAAAAAAAAAAAAAAAAAAAAAAAAAAAAAAAAAAAAAAAAAAAAAAAAAAAAAAAAAAAAAGAEPAAGMhSm5AAAAAElFTkSuQmCC",
           "type": "image"
          }
         ],
         "layout": {
          "margin": {
           "t": 60
          }
         },
         "name": "5"
        },
        {
         "data": [
          {
           "name": "6",
           "source": "data:image/png;base64,iVBORw0KGgoAAAANSUhEUgAAAQAAAAEACAAAAAB5Gfe6AAACe0lEQVR4Xu3bvWsUURTG4bOLKAh+oIKkUiLY2MTOzhWCpd1GG1PoPyB+ELCz0kZsLbQQRCRgYasQELEUbUQs/ECMaCOihaLosdjZ7Nw3EG3mnnHu76lm3jPF7tk7c+/O7JoBAAAAAAAAAAAAAAAAAAAA6KKeBlkdOmm2vKBpKbZ5ZYdWclqnQYDly3ZesxKsjAB3v6bFEtQb4DNaLUDSgDdaLcDRegPcj2g9j74G+dzWIERgA8QuDTovPQPcL+kBXacN8LN6RA6BS2HXIOTFtOcaEKRVDfihQQatakAEGqBBaQIb8FKD0iRfhtzdvbCL4AYNQkSsPSqrF0I/12vSvMAR0A40QIN8ZjUoTfGzQDu0qAEPewGTQCQ5Bcp7NJA2YEnLmQQ+Gvt+xWx+e7Vz83hSK8bUeADMaKUU1fu/oXk20bPAGQ1Kc+Czu/tjjfMJ/DY4MpgyszsRa0AAAACULe9SeN+cmd17pHE5hu7u5zQNlXcEDBdXNp/ur+VmZrZpzszMrkvcKcPxDSD3J1qz6VFB44ZlvCfYm731L/8MeHbKzN6+0LgD+pOPf60R4O7ur3dqtSnRt8Rqpmvbuz/c31jb7Ya1R8Deq0nZ/W7n/kWSNsDn0+ogrbq7n0iPaEaLToFVskyIbW5AFmEN+PQq3f/4Lt3PJeNKsP9rsv3g9Lfnkz0zM9uzxczs8MValOPFZVwI/e7Z4EK1PagXRka/m9z6ZfM4+KoTRRkOLowngcDHRbEWR+//vebNCLsI/tUxDQAAAAAAAAAAAAAAAAAAAAAAAAAAAAAAAAAAAAAAAAAAAAAAAAAAAAAAAAAAAAAAAAAAAAAAAAAA/78/78leS1dXJuwAAAAASUVORK5CYII=",
           "type": "image"
          }
         ],
         "layout": {
          "margin": {
           "t": 60
          }
         },
         "name": "6"
        },
        {
         "data": [
          {
           "name": "7",
           "source": "data:image/png;base64,iVBORw0KGgoAAAANSUhEUgAAAQAAAAEACAAAAAB5Gfe6AAACe0lEQVR4Xu3bvWsUURTG4bOLKAh+oIKkUiLY2MTOzhWCpd1GG1PoPyB+ELCz0kZsLbQQRCRgYasQELEUbUQs/ECMaCOihaLosdjZ7Nw3EG3mnnHu76lm3jPF7tk7c+/O7JoBAAAAAAAAAAAAAAAAAAAA6KKeBlkdOmm2vKBpKbZ5ZYdWclqnQYDly3ZesxKsjAB3v6bFEtQb4DNaLUDSgDdaLcDRegPcj2g9j74G+dzWIERgA8QuDTovPQPcL+kBXacN8LN6RA6BS2HXIOTFtOcaEKRVDfihQQatakAEGqBBaQIb8FKD0iRfhtzdvbCL4AYNQkSsPSqrF0I/12vSvMAR0A40QIN8ZjUoTfGzQDu0qAEPewGTQCQ5Bcp7NJA2YEnLmQQ+Gvt+xWx+e7Vz83hSK8bUeADMaKUU1fu/oXk20bPAGQ1Kc+Czu/tjjfMJ/DY4MpgyszsRa0AAAACULe9SeN+cmd17pHE5hu7u5zQNlXcEDBdXNp/ur+VmZrZpzszMrkvcKcPxDSD3J1qz6VFB44ZlvCfYm731L/8MeHbKzN6+0LgD+pOPf60R4O7ur3dqtSnRt8Rqpmvbuz/c31jb7Ya1R8Deq0nZ/W7n/kWSNsDn0+ogrbq7n0iPaEaLToFVskyIbW5AFmEN+PQq3f/4Lt3PJeNKsP9rsv3g9Lfnkz0zM9uzxczs8MValOPFZVwI/e7Z4EK1PagXRka/m9z6ZfM4+KoTRRkOLowngcDHRbEWR+//vebNCLsI/tUxDQAAAAAAAAAAAAAAAAAAAAAAAAAAAAAAAAAAAAAAAAAAAAAAAAAAAAAAAAAAAAAAAAAAAAAAAAAA/78/78leS1dXJuwAAAAASUVORK5CYII=",
           "type": "image"
          }
         ],
         "layout": {
          "margin": {
           "t": 60
          }
         },
         "name": "7"
        },
        {
         "data": [
          {
           "name": "8",
           "source": "data:image/png;base64,iVBORw0KGgoAAAANSUhEUgAAAQAAAAEACAAAAAB5Gfe6AAAFNElEQVR4Xu3cX4hUZRgG8GcXdynXQMFKYl0NzA2yosVK6KISVtII0qJwhS76C3tRW1BodNNF6U2KBNFFJIF3iSzIkl3YH0pxCQvBotgoQ9vSTaPWLdp1fbs4M7vOA5vtzPt95zue53cz7vPKnMM73/edc2bODCAiIiIiIiIiIiIiIiIiIiIiIiIiIiIiIiIiIiIiIiIiIiIiIiIiIiIiIiIiwq40M1tzFcelMf+wmZmdeJULZbHUKriQs2YOymYOBwnZ+gAArODYV/wGDF/HyUzab+IkgPhTILFFIH4DEhOtAWc+qvyjqSb+Dx13clJsO2dzGJxzvHrU/H//v37RRsDs9C7hJJQIDegbGRkZWVf548jVNbWZvMZBMBEOg3MXAujufBYAsLK2NpN5HAQToQEAgD4OUhFhCqSt9A2INQVO/wUAeIji/Hk24NbHgdFXOM0808/JJT2HnRwlrLm5udnMzDZzBVsmJyc/5vBy0zF14matXEtb6RdBpwbcz0HJvD49A8o5BTqzh6+bmpqaxmtLpXDjCTMzO7yQCwXgMgIWtgMATv5GeRG4NKDI1AAOykYN4KBsSt8AD8uzU8BjnJfGF2Zmtr+N80JwmAI92Tu934xRXgwODSg2NYCDslEDOKjbkis4KQS/BmzYz0kh+DUAd+/hJCQzs+s5rIPnByNdy77nKKzBfgBPcxpdT3YmbBb8bo6LtHlt03EKxNR9jpMcjeYwArbnsM0ZTe9LtJ1Z7LfNxhfBA5XH3W/UxKWxufJCVG8DjMJxBLgtgqs5KAi3BhSVGsBBvRpfTfPh1oCJezkpBrcGYN/w8O2cFYDfyG1rQ8HujQDgOQJiOrVqFUf1KmYDxgcHn+esTo4N6H3kO44CGnC6G8NtDTi5mJOwhsYSuSHnjsrVMOfBPeVzLdC47A7ZHPbjYZcNN74GXNjESSQXOMhL21GHF6IOpxIZARj7BwAevJnzsPrsGo5yc5uZmZ2Iu0N92eufwgjAV017AbSv7OriSgG4nQcAA7P4WuzlZpfPcJydDTlsc0YvH4y/M53Z94s5zsmOHHbmMzOz+ZzOksciCACHAAA/LqM4uMFGPyPzasD7AICl0d8T6j/PySx5NQAfcBDc2gWc1MPtMLgu8gKA3Xldg8zksXEze5HTcI7HX3Uv4aeoe9Q96rM5tzUAWMJBUF3zAPzNab7MzF7gMBQzM+vhNF9mZr9wGMhZM7MvHT6IcJwCAIBFZma2mmNv2xcAwGRiX9K0KaEbsOi0mZndwHkd3M4DIqqu/UeGauL6eE6BrRyEdWgNJ/XwbMCncY9Kv57lJHfr46wBlY3cx3kCqg2wFq54aW1tzb6j5XEW6O+9agOOcsVJa3UDZm9xLQUteyt7N/Eol3xc1IAOrqWh2oG3N24MMQ2mG7CDS4m4dmoPLcSPSE83INEBAGyL04DPuZKMFeMxGrCLC3XzPBECABybukLLflgkiPMHOUnJnuoQ4IKDygh4kvOk9FYb8A5XGldpAMdpuev3age2calh2fPu4zgxQ9UG+L9S2dN6/iyj+yII4EMOnJ35mZPUvBR2BNzCaXoOVBqwnAuNMjPz/fwx7Ftin6x1vizcBOAHDhsS6KaWqcEf6Pn9hFgEAWw5wknZtIRaBr0FGgGYeDd73Fgbl0jzm2Zm9i3nJfJHQSZBMPdkDRjgvDyeMDOzYv7ClovlJ83Msp+VL6lz6Y+AUIfBzHoO0hP2VHXOXAB/cioiIiIiIiIiIiIiIiIiIiIiIiIiIiIiIiIiIhLIvxV3uZD1FMBwAAAAAElFTkSuQmCC",
           "type": "image"
          }
         ],
         "layout": {
          "margin": {
           "t": 60
          }
         },
         "name": "8"
        },
        {
         "data": [
          {
           "name": "9",
           "source": "data:image/png;base64,iVBORw0KGgoAAAANSUhEUgAAAQAAAAEACAAAAAB5Gfe6AAAFNElEQVR4Xu3cX4hUZRgG8GcXdynXQMFKYl0NzA2yosVK6KISVtII0qJwhS76C3tRW1BodNNF6U2KBNFFJIF3iSzIkl3YH0pxCQvBotgoQ9vSTaPWLdp1fbs4M7vOA5vtzPt95zue53cz7vPKnMM73/edc2bODCAiIiIiIiIiIiIiIiIiIiIiIiIiIiIiIiIiIiIiIiIiIiIiIiIiIiIiIiIiwq40M1tzFcelMf+wmZmdeJULZbHUKriQs2YOymYOBwnZ+gAArODYV/wGDF/HyUzab+IkgPhTILFFIH4DEhOtAWc+qvyjqSb+Dx13clJsO2dzGJxzvHrU/H//v37RRsDs9C7hJJQIDegbGRkZWVf548jVNbWZvMZBMBEOg3MXAujufBYAsLK2NpN5HAQToQEAgD4OUhFhCqSt9A2INQVO/wUAeIji/Hk24NbHgdFXOM0808/JJT2HnRwlrLm5udnMzDZzBVsmJyc/5vBy0zF14matXEtb6RdBpwbcz0HJvD49A8o5BTqzh6+bmpqaxmtLpXDjCTMzO7yQCwXgMgIWtgMATv5GeRG4NKDI1AAOykYN4KBsSt8AD8uzU8BjnJfGF2Zmtr+N80JwmAI92Tu934xRXgwODSg2NYCDslEDOKjbkis4KQS/BmzYz0kh+DUAd+/hJCQzs+s5rIPnByNdy77nKKzBfgBPcxpdT3YmbBb8bo6LtHlt03EKxNR9jpMcjeYwArbnsM0ZTe9LtJ1Z7LfNxhfBA5XH3W/UxKWxufJCVG8DjMJxBLgtgqs5KAi3BhSVGsBBvRpfTfPh1oCJezkpBrcGYN/w8O2cFYDfyG1rQ8HujQDgOQJiOrVqFUf1KmYDxgcHn+esTo4N6H3kO44CGnC6G8NtDTi5mJOwhsYSuSHnjsrVMOfBPeVzLdC47A7ZHPbjYZcNN74GXNjESSQXOMhL21GHF6IOpxIZARj7BwAevJnzsPrsGo5yc5uZmZ2Iu0N92eufwgjAV017AbSv7OriSgG4nQcAA7P4WuzlZpfPcJydDTlsc0YvH4y/M53Z94s5zsmOHHbmMzOz+ZzOksciCACHAAA/LqM4uMFGPyPzasD7AICl0d8T6j/PySx5NQAfcBDc2gWc1MPtMLgu8gKA3Xldg8zksXEze5HTcI7HX3Uv4aeoe9Q96rM5tzUAWMJBUF3zAPzNab7MzF7gMBQzM+vhNF9mZr9wGMhZM7MvHT6IcJwCAIBFZma2mmNv2xcAwGRiX9K0KaEbsOi0mZndwHkd3M4DIqqu/UeGauL6eE6BrRyEdWgNJ/XwbMCncY9Kv57lJHfr46wBlY3cx3kCqg2wFq54aW1tzb6j5XEW6O+9agOOcsVJa3UDZm9xLQUteyt7N/Eol3xc1IAOrqWh2oG3N24MMQ2mG7CDS4m4dmoPLcSPSE83INEBAGyL04DPuZKMFeMxGrCLC3XzPBECABybukLLflgkiPMHOUnJnuoQ4IKDygh4kvOk9FYb8A5XGldpAMdpuev3age2calh2fPu4zgxQ9UG+L9S2dN6/iyj+yII4EMOnJ35mZPUvBR2BNzCaXoOVBqwnAuNMjPz/fwx7Ftin6x1vizcBOAHDhsS6KaWqcEf6Pn9hFgEAWw5wknZtIRaBr0FGgGYeDd73Fgbl0jzm2Zm9i3nJfJHQSZBMPdkDRjgvDyeMDOzYv7ClovlJ83Msp+VL6lz6Y+AUIfBzHoO0hP2VHXOXAB/cioiIiIiIiIiIiIiIiIiIiIiIiIiIiIiIiIiIhLIvxV3uZD1FMBwAAAAAElFTkSuQmCC",
           "type": "image"
          }
         ],
         "layout": {
          "margin": {
           "t": 60
          }
         },
         "name": "9"
        },
        {
         "data": [
          {
           "name": "10",
           "source": "data:image/png;base64,iVBORw0KGgoAAAANSUhEUgAAAQAAAAEACAAAAAB5Gfe6AAADRUlEQVR4Xu3aQYhNURzH8f9jIlmMHcpMY6PGeqbUJDUlC0nNxrAYCxaUNCvZkY0sWChRUmSDTGahlFjYKJSNDZoyJAYLlETy/hb3Ds0vyn33nHPv7X0/m6nvWdw3/3fundebYwYAAAAAAAAAAAAAAAAAAAAAAAAAAAAAAAAAAAAAAAAAAAAAAAAAAAAAqJ+WhuLum9ncmNYu4u4+q7ExFmnoTICNVJFAA3ANjdGjoTPpd8DGbWavT2uthLt7+6DW2Cbd/ZHGDgS6BVqbtKQwdFFLJdzdPflDYNLd3R9oLizQDjDz6WWaEhjQUFiwAdj2u1oSSL7x/ia7Bdz9znJdiumlu/s7rVU4+3sCt47oWkSz7u5zWquw6/cA/KGuRTTr7u6HNRcV7hlQjc1lP8k1dwDrzcxsdLHkosIOIOVD+Wv2Y8/CWoX5Z8Do4OBaXYspv6zmgsreQn/MPvmgqQnC3QI3Gvn7BxxAQwUYQA0eQyUEGMCohkYJMIBmYwAaClo88VlTs5T9HNBzSUvDlN0BjccANHQbBqCh2zR4ANMaOtLgAVzW0JGyA2hf/aapWcoO4Mf4iKau89zd3duaoxsL8pVY2R1gZkfNzKy1e2HtIvNfivbpQmT5ZTUXFGAHNBsD0NBtGICGzm3R0AgBB3BeQ1zXNFToafYH6br2mLJDUjX5M7g3+zG8bmHuIlPZm7FVe0TzG2CpLhQUZAfMu7lfS3S3f2qpxJL87Sh/bvG/5VcsfUYokP789ezUhWiy65U/JhfoFnib/P8jx80sxJmcQAP48VFLbO/NLMQx/UADsHMa0qjNDrBnGtKozw5IboeZ1WkHWOtA28xSHZk/5RvMLMQOKPvv8T/OHOo3u7DG7JiuRHRSQ5V6888C2mM45e7uj1doLy7YLWCW8KjI8uyg8PSnhblq6XZAX7IrFZIP4Iz20HrvpRt1IfnLerFaFwIbyS8UZAABnwE2M2NmZgNvpEfyZVhL9U5k78w+7WHlO2BKew0M/cxeW9wviLMBfNdcC+PZAILcnf+UDaBfc2dCPgPM7IqG2gs8AFulIZaJV1rqYWWqW0AjAAAAAAAAAAAAAAAAAAAAAAAAAAAAAAAAAAAAAHSVXyj1V7jJs2TmAAAAAElFTkSuQmCC",
           "type": "image"
          }
         ],
         "layout": {
          "margin": {
           "t": 60
          }
         },
         "name": "10"
        },
        {
         "data": [
          {
           "name": "11",
           "source": "data:image/png;base64,iVBORw0KGgoAAAANSUhEUgAAAQAAAAEACAAAAAB5Gfe6AAADRUlEQVR4Xu3aQYhNURzH8f9jIlmMHcpMY6PGeqbUJDUlC0nNxrAYCxaUNCvZkY0sWChRUmSDTGahlFjYKJSNDZoyJAYLlETy/hb3Ds0vyn33nHPv7X0/m6nvWdw3/3fundebYwYAAAAAAAAAAAAAAAAAAAAAAAAAAAAAAAAAAAAAAAAAAAAAAAAAAAAAqJ+WhuLum9ncmNYu4u4+q7ExFmnoTICNVJFAA3ANjdGjoTPpd8DGbWavT2uthLt7+6DW2Cbd/ZHGDgS6BVqbtKQwdFFLJdzdPflDYNLd3R9oLizQDjDz6WWaEhjQUFiwAdj2u1oSSL7x/ia7Bdz9znJdiumlu/s7rVU4+3sCt47oWkSz7u5zWquw6/cA/KGuRTTr7u6HNRcV7hlQjc1lP8k1dwDrzcxsdLHkosIOIOVD+Wv2Y8/CWoX5Z8Do4OBaXYspv6zmgsreQn/MPvmgqQnC3QI3Gvn7BxxAQwUYQA0eQyUEGMCohkYJMIBmYwAaClo88VlTs5T9HNBzSUvDlN0BjccANHQbBqCh2zR4ANMaOtLgAVzW0JGyA2hf/aapWcoO4Mf4iKau89zd3duaoxsL8pVY2R1gZkfNzKy1e2HtIvNfivbpQmT5ZTUXFGAHNBsD0NBtGICGzm3R0AgBB3BeQ1zXNFToafYH6br2mLJDUjX5M7g3+zG8bmHuIlPZm7FVe0TzG2CpLhQUZAfMu7lfS3S3f2qpxJL87Sh/bvG/5VcsfUYokP789ezUhWiy65U/JhfoFnib/P8jx80sxJmcQAP48VFLbO/NLMQx/UADsHMa0qjNDrBnGtKozw5IboeZ1WkHWOtA28xSHZk/5RvMLMQOKPvv8T/OHOo3u7DG7JiuRHRSQ5V6888C2mM45e7uj1doLy7YLWCW8KjI8uyg8PSnhblq6XZAX7IrFZIP4Iz20HrvpRt1IfnLerFaFwIbyS8UZAABnwE2M2NmZgNvpEfyZVhL9U5k78w+7WHlO2BKew0M/cxeW9wviLMBfNdcC+PZAILcnf+UDaBfc2dCPgPM7IqG2gs8AFulIZaJV1rqYWWqW0AjAAAAAAAAAAAAAAAAAAAAAAAAAAAAAAAAAAAAAHSVXyj1V7jJs2TmAAAAAElFTkSuQmCC",
           "type": "image"
          }
         ],
         "layout": {
          "margin": {
           "t": 60
          }
         },
         "name": "11"
        },
        {
         "data": [
          {
           "name": "12",
           "source": "data:image/png;base64,iVBORw0KGgoAAAANSUhEUgAAAQAAAAEACAAAAAB5Gfe6AAAEAUlEQVR4Xu3bT4hVZRjH8cdBZzCVCnUWiQqC2Wi0MJ2NulFEqZ0i1CzauEhcVW6URFo5C0tBKrSFO8WFoIsQypWFKDpMQegwFBEkiIaai1Gvmq+Lc8798xA497zP+57zcr+fzT383sU795nnvOc9594rAgAAAAAAAAAAAAAAAAAAAAAAAAAAAAAAAAAAAAAAAAAAAAAAAAAAgHqaoYNk9ImIczrtHe/ec86N6LR7M3WQgLVnRWTuqzouJ8UC9C/SiYc+HfQaCqCDBEx+oJOes9hlDK4CKXaAKQqgg+6NOOf+0mEyDAogEn1HfetE9nqkMy7DqACR9+TPHmSvg/eXdw50z6gAkTtgcEd+8Nr2jryEFLfCIrd1UJ5BB+wSkflbdJoK/wK8vkFE5gzpOBX+BZjQQVq8C7BnUCdp8S7ArMgXAGu+V4H+T0VEZKXhujwNK+W6Vd19CzAjOwNuyFaR2792joUzIX0Tb+mwGgP5jalzzp3RgyF9ks25V+fd8l4DKjY6oJMupV4Ab4YFePhYJyE9ncqmizrp/2itAVeMHtRP27ZsXh1H1irAYT0UWv9liwIYngKxPXmmkzISLkA9tO0DFuux0I6OGZwCvjvKgdYqfOGRyFc/tY0Ft+aaeL8D361wm80iclqHQVl8SJr0GnBOByV4F+C5DhLjewo0Ph9tHh9K8fGQbwFavvvilo5S4H0KTBSXgano73+TDqqxOt8GRN8Ky8/OYB/g3QEy/rtOItm3XicVGck6YHKBHgjr27zzdN4lu0Xwzdk6Ccr3jRf8T4FqfKmDslItwGc6KCvVApgxLMAlHfSMq/l6PKwHAnqez+l9FTDsAPn+4jEdhbdZBxUoOsC5q3oomLF8xpv9eqRLlh0Q05qT2evXTzrzrlkUYPhfnUQwpoOSLAog71zXSXjv6aAkk63w35OrsgPfJXn6pl7RSaU+jr0IHs4n9P9ehskpIMd1EEu8lnuJyB1Q/F6gNh1QGf8OMCrAUh2EtaI48PxYyM7cH51zzt2JdDtQnAEWv5kxMtr8m/y78mXmnavf+2/7p4QuwNsHWlP1ZAE+bM007nsnJGaLYDXL0X++d0JiWICmtTqoN7sCFI8p53ekQdWr1svuRF8D9FAZdh3w56P84JuOOJw/6tUAIh/l/5ffFuoRU8t37x53zrn9eqB6zdacpUesNRqNxhIdVq9ZgBuRbw3qYmezAhv1UG8YLq4DNutzgoaaBcgfWifAdgc7dLG4Ahw8LyK/PGwf7Amnmj3gnHP5s+KesvBBYgWw2wlm/nnf5Fv8SUurAwJYd98598NBHdeU7VUg88ZMkbtTOgUAAAAAAAAAAAAAAAAAAAAAAAAAAAAAAAAAwNwLUrbTcgx5wagAAAAASUVORK5CYII=",
           "type": "image"
          }
         ],
         "layout": {
          "margin": {
           "t": 60
          }
         },
         "name": "12"
        },
        {
         "data": [
          {
           "name": "13",
           "source": "data:image/png;base64,iVBORw0KGgoAAAANSUhEUgAAAQAAAAEACAAAAAB5Gfe6AAAEAUlEQVR4Xu3bT4hVZRjH8cdBZzCVCnUWiQqC2Wi0MJ2NulFEqZ0i1CzauEhcVW6URFo5C0tBKrSFO8WFoIsQypWFKDpMQegwFBEkiIaai1Gvmq+Lc8798xA497zP+57zcr+fzT383sU795nnvOc9594rAgAAAAAAAAAAAAAAAAAAAAAAAAAAAAAAAAAAAAAAAAAAAAAAAAAAgHqaoYNk9ImIczrtHe/ec86N6LR7M3WQgLVnRWTuqzouJ8UC9C/SiYc+HfQaCqCDBEx+oJOes9hlDK4CKXaAKQqgg+6NOOf+0mEyDAogEn1HfetE9nqkMy7DqACR9+TPHmSvg/eXdw50z6gAkTtgcEd+8Nr2jryEFLfCIrd1UJ5BB+wSkflbdJoK/wK8vkFE5gzpOBX+BZjQQVq8C7BnUCdp8S7ArMgXAGu+V4H+T0VEZKXhujwNK+W6Vd19CzAjOwNuyFaR2792joUzIX0Tb+mwGgP5jalzzp3RgyF9ks25V+fd8l4DKjY6oJMupV4Ab4YFePhYJyE9ncqmizrp/2itAVeMHtRP27ZsXh1H1irAYT0UWv9liwIYngKxPXmmkzISLkA9tO0DFuux0I6OGZwCvjvKgdYqfOGRyFc/tY0Ft+aaeL8D361wm80iclqHQVl8SJr0GnBOByV4F+C5DhLjewo0Ph9tHh9K8fGQbwFavvvilo5S4H0KTBSXgano73+TDqqxOt8GRN8Ky8/OYB/g3QEy/rtOItm3XicVGck6YHKBHgjr27zzdN4lu0Xwzdk6Ccr3jRf8T4FqfKmDslItwGc6KCvVApgxLMAlHfSMq/l6PKwHAnqez+l9FTDsAPn+4jEdhbdZBxUoOsC5q3oomLF8xpv9eqRLlh0Q05qT2evXTzrzrlkUYPhfnUQwpoOSLAog71zXSXjv6aAkk63w35OrsgPfJXn6pl7RSaU+jr0IHs4n9P9ehskpIMd1EEu8lnuJyB1Q/F6gNh1QGf8OMCrAUh2EtaI48PxYyM7cH51zzt2JdDtQnAEWv5kxMtr8m/y78mXmnavf+2/7p4QuwNsHWlP1ZAE+bM007nsnJGaLYDXL0X++d0JiWICmtTqoN7sCFI8p53ekQdWr1svuRF8D9FAZdh3w56P84JuOOJw/6tUAIh/l/5ffFuoRU8t37x53zrn9eqB6zdacpUesNRqNxhIdVq9ZgBuRbw3qYmezAhv1UG8YLq4DNutzgoaaBcgfWifAdgc7dLG4Ahw8LyK/PGwf7Amnmj3gnHP5s+KesvBBYgWw2wlm/nnf5Fv8SUurAwJYd98598NBHdeU7VUg88ZMkbtTOgUAAAAAAAAAAAAAAAAAAAAAAAAAAAAAAAAAwNwLUrbTcgx5wagAAAAASUVORK5CYII=",
           "type": "image"
          }
         ],
         "layout": {
          "margin": {
           "t": 60
          }
         },
         "name": "13"
        },
        {
         "data": [
          {
           "name": "14",
           "source": "data:image/png;base64,iVBORw0KGgoAAAANSUhEUgAAAQAAAAEACAAAAAB5Gfe6AAAAVElEQVR4Xu3BAQEAAACAkP6v7ggKAAAAAAAAAAAAAAAAAAAAAAAAAAAAAAAAAAAAAAAAAAAAAAAAAAAAAAAAAAAAAAAAAAAAAAAAAAAAAAAAAAAAGAEPAAGMhSm5AAAAAElFTkSuQmCC",
           "type": "image"
          }
         ],
         "layout": {
          "margin": {
           "t": 60
          }
         },
         "name": "14"
        },
        {
         "data": [
          {
           "name": "15",
           "source": "data:image/png;base64,iVBORw0KGgoAAAANSUhEUgAAAQAAAAEACAAAAAB5Gfe6AAAAVElEQVR4Xu3BAQEAAACAkP6v7ggKAAAAAAAAAAAAAAAAAAAAAAAAAAAAAAAAAAAAAAAAAAAAAAAAAAAAAAAAAAAAAAAAAAAAAAAAAAAAAAAAAAAAGAEPAAGMhSm5AAAAAElFTkSuQmCC",
           "type": "image"
          }
         ],
         "layout": {
          "margin": {
           "t": 60
          }
         },
         "name": "15"
        },
        {
         "data": [
          {
           "name": "16",
           "source": "data:image/png;base64,iVBORw0KGgoAAAANSUhEUgAAAQAAAAEACAAAAAB5Gfe6AAABJ0lEQVR4Xu3YO07EMBQF0AdCFMNU0LAA6KdhByxjaraAqFkRm0DUbAEJ0aKJEF0o5iN4FZWfJZ/TRLpukivbcRIBAAAAAAAAAAAAAAAAAAAAAAAAAAAAAAAAAAAAAAAAAAAAAAAAAEAbRzloaXW8vX68/82HsZm3Xpd5ZAyLaVfAfJ6H2tlNwhIPZzkpUFlAFxSQgxIvOWinjwKuczCGq6/9W2DOQ+2UHoTi8OB1t9HHEihUWsAmBwVOctDK5V3EaQ5HsjpsgLWbYOkS6IECcjAaBeRgNArIQYmLHLTTRQHP3zkZwK+D0FT5T7SHGTBPORnB4uZ2PwN6+CYq8dhDAT0sgXUOWir7HI6Iz7eIiLh/SjkAAAAAAAAAAAAAAAAAAAAAAAD8ww+KK1M6zOxbwwAAAABJRU5ErkJggg==",
           "type": "image"
          }
         ],
         "layout": {
          "margin": {
           "t": 60
          }
         },
         "name": "16"
        },
        {
         "data": [
          {
           "name": "17",
           "source": "data:image/png;base64,iVBORw0KGgoAAAANSUhEUgAAAQAAAAEACAAAAAB5Gfe6AAABJ0lEQVR4Xu3YO07EMBQF0AdCFMNU0LAA6KdhByxjaraAqFkRm0DUbAEJ0aKJEF0o5iN4FZWfJZ/TRLpukivbcRIBAAAAAAAAAAAAAAAAAAAAAAAAAAAAAAAAAAAAAAAAAAAAAAAAAEAbRzloaXW8vX68/82HsZm3Xpd5ZAyLaVfAfJ6H2tlNwhIPZzkpUFlAFxSQgxIvOWinjwKuczCGq6/9W2DOQ+2UHoTi8OB1t9HHEihUWsAmBwVOctDK5V3EaQ5HsjpsgLWbYOkS6IECcjAaBeRgNArIQYmLHLTTRQHP3zkZwK+D0FT5T7SHGTBPORnB4uZ2PwN6+CYq8dhDAT0sgXUOWir7HI6Iz7eIiLh/SjkAAAAAAAAAAAAAAAAAAAAAAAD8ww+KK1M6zOxbwwAAAABJRU5ErkJggg==",
           "type": "image"
          }
         ],
         "layout": {
          "margin": {
           "t": 60
          }
         },
         "name": "17"
        },
        {
         "data": [
          {
           "name": "18",
           "source": "data:image/png;base64,iVBORw0KGgoAAAANSUhEUgAAAQAAAAEACAAAAAB5Gfe6AAAA+0lEQVR4Xu3UMUpDQRCA4YlIQCvRs4gHsBPvkdLOA+i5JKSwt/IUFsJDUo5NTDFguxPY7yv/Kd5j2N0IAAAAAAAAAAAAAAAAAAAAAAAAAAAAAAAAAAAAAAAAAAAAAAAAAGCUVQ3jrB8iImJ5K30a15mZmT+PdTDUWQ3DXd7VMovDCcisg6H6T0CzxgXst7V06FzAey0dGhdwtLmtZRKvf6/g11UdjXMKJyBuGv+i8dOnwQJqmM30CzivYaDt8zoiIl5iXyazWDIz86nmofqvwPdHLfNYMjM/ax2r8w2I3UVE3NcKAAAAAAAAAAAAAAAAAAAAAAAAAADAv34B+Dow9QRsu3AAAAAASUVORK5CYII=",
           "type": "image"
          }
         ],
         "layout": {
          "margin": {
           "t": 60
          }
         },
         "name": "18"
        },
        {
         "data": [
          {
           "name": "19",
           "source": "data:image/png;base64,iVBORw0KGgoAAAANSUhEUgAAAQAAAAEACAAAAAB5Gfe6AAAA+0lEQVR4Xu3UMUpDQRCA4YlIQCvRs4gHsBPvkdLOA+i5JKSwt/IUFsJDUo5NTDFguxPY7yv/Kd5j2N0IAAAAAAAAAAAAAAAAAAAAAAAAAAAAAAAAAAAAAAAAAAAAAAAAAGCUVQ3jrB8iImJ5K30a15mZmT+PdTDUWQ3DXd7VMovDCcisg6H6T0CzxgXst7V06FzAey0dGhdwtLmtZRKvf6/g11UdjXMKJyBuGv+i8dOnwQJqmM30CzivYaDt8zoiIl5iXyazWDIz86nmofqvwPdHLfNYMjM/ax2r8w2I3UVE3NcKAAAAAAAAAAAAAAAAAAAAAAAAAADAv34B+Dow9QRsu3AAAAAASUVORK5CYII=",
           "type": "image"
          }
         ],
         "layout": {
          "margin": {
           "t": 60
          }
         },
         "name": "19"
        },
        {
         "data": [
          {
           "name": "20",
           "source": "data:image/png;base64,iVBORw0KGgoAAAANSUhEUgAAAQAAAAEACAAAAAB5Gfe6AAAAVElEQVR4Xu3BAQEAAACAkP6v7ggKAAAAAAAAAAAAAAAAAAAAAAAAAAAAAAAAAAAAAAAAAAAAAAAAAAAAAAAAAAAAAAAAAAAAAAAAAAAAAAAAAAAAGAEPAAGMhSm5AAAAAElFTkSuQmCC",
           "type": "image"
          }
         ],
         "layout": {
          "margin": {
           "t": 60
          }
         },
         "name": "20"
        },
        {
         "data": [
          {
           "name": "21",
           "source": "data:image/png;base64,iVBORw0KGgoAAAANSUhEUgAAAQAAAAEACAAAAAB5Gfe6AAAAVElEQVR4Xu3BAQEAAACAkP6v7ggKAAAAAAAAAAAAAAAAAAAAAAAAAAAAAAAAAAAAAAAAAAAAAAAAAAAAAAAAAAAAAAAAAAAAAAAAAAAAAAAAAAAAGAEPAAGMhSm5AAAAAElFTkSuQmCC",
           "type": "image"
          }
         ],
         "layout": {
          "margin": {
           "t": 60
          }
         },
         "name": "21"
        },
        {
         "data": [
          {
           "name": "22",
           "source": "data:image/png;base64,iVBORw0KGgoAAAANSUhEUgAAAQAAAAEACAAAAAB5Gfe6AAABNElEQVR4Xu3WIU4DQRgF4EIIEoJCEAQXaJpwAq6A6h0IN+kBQOIIEo/BgAKBI0GhEAQ0gkVQoPsMbmbT+T6zyfvNzsvs7IxGAAAAAAAAAAAAAAAAAAAAAAAAAAAAAAAAAAAAAAAAAAAAAAAAlLWSQTkX8+fpVS9uR/djZyNHTZj+FtDdzKY5XX6Tz78Cuu4sx8WsZlDI4X3F02dRrQKOM6ilVgFhdzOTUgZSwMFeJqUMpIB6FJBBIe9vmbRm+27xHtBNcl5KrR0wennIpI5qBfQ9vmZSykAKuH3OZOkd9Y6AnJZT7UbeX3O11xjKJ1CPAjJojQIyqGG2lUkDFv6BJzlrwvhyvvyncY5acf1dQMbtWD8fQgFrGZTzcbufEQAAAAAAAAAAAAAAAAAAAAAAAAAA8J8vV01t+d9fGKYAAAAASUVORK5CYII=",
           "type": "image"
          }
         ],
         "layout": {
          "margin": {
           "t": 60
          }
         },
         "name": "22"
        },
        {
         "data": [
          {
           "name": "23",
           "source": "data:image/png;base64,iVBORw0KGgoAAAANSUhEUgAAAQAAAAEACAAAAAB5Gfe6AAABNElEQVR4Xu3WIU4DQRgF4EIIEoJCEAQXaJpwAq6A6h0IN+kBQOIIEo/BgAKBI0GhEAQ0gkVQoPsMbmbT+T6zyfvNzsvs7IxGAAAAAAAAAAAAAAAAAAAAAAAAAAAAAAAAAAAAAAAAAAAAAAAAlLWSQTkX8+fpVS9uR/djZyNHTZj+FtDdzKY5XX6Tz78Cuu4sx8WsZlDI4X3F02dRrQKOM6ilVgFhdzOTUgZSwMFeJqUMpIB6FJBBIe9vmbRm+27xHtBNcl5KrR0wennIpI5qBfQ9vmZSykAKuH3OZOkd9Y6AnJZT7UbeX3O11xjKJ1CPAjJojQIyqGG2lUkDFv6BJzlrwvhyvvyncY5acf1dQMbtWD8fQgFrGZTzcbufEQAAAAAAAAAAAAAAAAAAAAAAAAAA8J8vV01t+d9fGKYAAAAASUVORK5CYII=",
           "type": "image"
          }
         ],
         "layout": {
          "margin": {
           "t": 60
          }
         },
         "name": "23"
        },
        {
         "data": [
          {
           "name": "24",
           "source": "data:image/png;base64,iVBORw0KGgoAAAANSUhEUgAAAQAAAAEACAAAAAB5Gfe6AAADAElEQVR4Xu3YQUhUQRzH8f9mUFRWgkGGbCAlHaJLx8BDdijwGATivSLIILpFhwi6RHQIoqIkiKKokzchQahDpFhBQZl6iLSNSLOoQOnXYW3d/bea7zVve4vfz8Hd95uZp/5n3uyoGQAAAAAAAAAAAAAAAAAAAAAAAAAAAAAAAAAAAAAAAAAAAAAAAAAAAAAAAAAAAAAAAAAAAAAAAAAAAAAAicv4IITNe83Mrk/7PI0CF+Bcm5nZ6kYzs6G7J0sbUylsATov+MQOXfZJRPvMzN4M+Tid9KeDvk9E1yRJw2t8HspyH6RJzbb+lfl3TV8a35W2pZObfUl66PtEUF90ny7fGMgyH4S2ywcR1PogAYkXIL6GUyM+SkDYPaDu6n4f2dgmnyzKhNVUYgEELsBkmbNPQ/d9M7Ov93zDwta76y11Ey5JpVtF21apqMvZj9erZy2+TwgV2wNin7h6P+Vfm3f0ST9K2wKoWAFiax0ouohdxnkFLkD7qE9+kw9iCXOXYoELYNuPzPgoL+LcnfZBFZn225ekyJvgiB8vSZqe8v3+WegVYGadPghmomWtj9JoVdnZC7EC6n2vABJYAd+a+uYubu/JZK6YRd4DynTP7fzoo7RqK8xZ/nGQpHk/HsobLdyi4IHvE0QCK6DY68LXFdH+JOj3gQ22+iS9Gp7PTtrTjWZm1iFJR12nvyiaeklS7zrfI4xEVsD4i/f5Nx9mX83M6qx2XFKso8zb45ndn32YahseS5J68lcdkqTzfYpQgNmJz/ONVaBLUqEAcX6ZOGPiCPv/gDk93w+bWfaY2cxF37Y0LMtms1lJ+nliMM5sxhkTR5kDR0DlfvJFfseSoYscE0cinwLVJKk9YF7DPljQgMzMzvi4apwteZIlSQd8n3lI0lR7jY+rUC6Xi1OAXC6Xe+nDanUnRgEqpSKbYLcPUqQiBbiZab7ksyVn640l/AiYmQ09MjOzyTGX/28JnrG8VjOzqSc+BgAAAAAAAAAAAAAAAAAAAAAAAAAAABDCLxYr6Z4HyG0qAAAAAElFTkSuQmCC",
           "type": "image"
          }
         ],
         "layout": {
          "margin": {
           "t": 60
          }
         },
         "name": "24"
        },
        {
         "data": [
          {
           "name": "25",
           "source": "data:image/png;base64,iVBORw0KGgoAAAANSUhEUgAAAQAAAAEACAAAAAB5Gfe6AAADAElEQVR4Xu3YQUhUQRzH8f9mUFRWgkGGbCAlHaJLx8BDdijwGATivSLIILpFhwi6RHQIoqIkiKKokzchQahDpFhBQZl6iLSNSLOoQOnXYW3d/bea7zVve4vfz8Hd95uZp/5n3uyoGQAAAAAAAAAAAAAAAAAAAAAAAAAAAAAAAAAAAAAAAAAAAAAAAAAAAAAAAAAAAAAAAAAAAAAAAAAAAAAAicv4IITNe83Mrk/7PI0CF+Bcm5nZ6kYzs6G7J0sbUylsATov+MQOXfZJRPvMzN4M+Tid9KeDvk9E1yRJw2t8HspyH6RJzbb+lfl3TV8a35W2pZObfUl66PtEUF90ny7fGMgyH4S2ywcR1PogAYkXIL6GUyM+SkDYPaDu6n4f2dgmnyzKhNVUYgEELsBkmbNPQ/d9M7Ov93zDwta76y11Ey5JpVtF21apqMvZj9erZy2+TwgV2wNin7h6P+Vfm3f0ST9K2wKoWAFiax0ouohdxnkFLkD7qE9+kw9iCXOXYoELYNuPzPgoL+LcnfZBFZn225ekyJvgiB8vSZqe8v3+WegVYGadPghmomWtj9JoVdnZC7EC6n2vABJYAd+a+uYubu/JZK6YRd4DynTP7fzoo7RqK8xZ/nGQpHk/HsobLdyi4IHvE0QCK6DY68LXFdH+JOj3gQ22+iS9Gp7PTtrTjWZm1iFJR12nvyiaeklS7zrfI4xEVsD4i/f5Nx9mX83M6qx2XFKso8zb45ndn32YahseS5J68lcdkqTzfYpQgNmJz/ONVaBLUqEAcX6ZOGPiCPv/gDk93w+bWfaY2cxF37Y0LMtms1lJ+nliMM5sxhkTR5kDR0DlfvJFfseSoYscE0cinwLVJKk9YF7DPljQgMzMzvi4apwteZIlSQd8n3lI0lR7jY+rUC6Xi1OAXC6Xe+nDanUnRgEqpSKbYLcPUqQiBbiZab7ksyVn640l/AiYmQ09MjOzyTGX/28JnrG8VjOzqSc+BgAAAAAAAAAAAAAAAAAAAAAAAAAAABDCLxYr6Z4HyG0qAAAAAElFTkSuQmCC",
           "type": "image"
          }
         ],
         "layout": {
          "margin": {
           "t": 60
          }
         },
         "name": "25"
        },
        {
         "data": [
          {
           "name": "26",
           "source": "data:image/png;base64,iVBORw0KGgoAAAANSUhEUgAAAQAAAAEACAAAAAB5Gfe6AAADQElEQVR4Xu3ZPWgTcRjH8ccgdrCtpbY6iEEpVND60kEqiLQUBAdfEBykq5tbnVysILiI2M2pIAi6OOng4KAWOogFUeIQKh1aG5GWVmzFoRgeh8vL5UHQ5J6LF+77mS6/By6X5/4vR04EAAAAAAAAAAAAAAAAAAAAAAAAAAAAAAAAAAAAAAAAAAAAAAAAAAAAAAAAAAAAAAAAAADgP9lig8ZN9YrIBZumx46CqqpNU2RcW7IBGRukDQ2wQdpstUGjWm/2B1I/ApwbMGaD9FBVVX1j48TzexIMFgG/8/1ZR6fI5opNEyEYAjdt7OvutKrO2DQZrgUdKBaLxae25kbVuwF+i+C7DRERyWQymfOjpubLdcf1a8DrbzaJi+s649cAeWGDGDyzQaIEi4CqamxTYFuC14CQ78Fy0BJiacDFWZskl2cD1ssHr8Kpqx4bRObZgKEFm7gr2CAyzwbkl2zibdIGSVPaBM7Y3MmN4PSuu4CvS8EVbpywhcje5vP5fKm/CW5Af6F0japrthbJROW86twAzzVAZK46+F2fV2uN2yAK3wZILl8+6poI565cnzKcGyAjNkiflfJU7bCVCMJrwHFbjMR7BIj0Pi8dXK+Jozg3MVL98PFL9TiZrpZvlS00bCp0//WxrUbjPwLk/qfSwVRN7GXaBskzV7pXq3220pi+1fAIsNWI3F6NhfR/OCIiIt3D86bSiFHZ1x366PoUFJfd70t365atNCB893XzbJutJ9LD8gVfsZX6hX//si0mVuWSbaFu4SeA5QFbTazDRZcG3A79etVNW/YQwzYoIpK7bJPoFo7axEMcu4CIyBMbRDfYtDcvLrbnok+BntD4n8/aatLt+eHagP226CSuKSBSaJ+RrkMngw/rudpivRYHWuhdS8jp8v1r7AG+MgJ+HrQlN/GNgBptez/bqA5rO23iJ6Zt0BpavHfKZv/s67BNWkZlCqiq/rLVvypNARu3lF2T1Q68bLfVv+hRVZ08YOMWk71T6cDSQn1vDzPZbDbu7T/Gv+8rHnSOdpWPm/F9CXSsMghsJS0GZ5PagKYNyTF5JNLE7wMAAAAAAAAAAAAAAAAAAAAAAAAAAAAAAEBa/AaFBroQuIDvdgAAAABJRU5ErkJggg==",
           "type": "image"
          }
         ],
         "layout": {
          "margin": {
           "t": 60
          }
         },
         "name": "26"
        },
        {
         "data": [
          {
           "name": "27",
           "source": "data:image/png;base64,iVBORw0KGgoAAAANSUhEUgAAAQAAAAEACAAAAAB5Gfe6AAAAVElEQVR4Xu3BAQEAAACAkP6v7ggKAAAAAAAAAAAAAAAAAAAAAAAAAAAAAAAAAAAAAAAAAAAAAAAAAAAAAAAAAAAAAAAAAAAAAAAAAAAAAAAAAAAAGAEPAAGMhSm5AAAAAElFTkSuQmCC",
           "type": "image"
          }
         ],
         "layout": {
          "margin": {
           "t": 60
          }
         },
         "name": "27"
        },
        {
         "data": [
          {
           "name": "28",
           "source": "data:image/png;base64,iVBORw0KGgoAAAANSUhEUgAAAQAAAAEACAAAAAB5Gfe6AAAAVElEQVR4Xu3BAQEAAACAkP6v7ggKAAAAAAAAAAAAAAAAAAAAAAAAAAAAAAAAAAAAAAAAAAAAAAAAAAAAAAAAAAAAAAAAAAAAAAAAAAAAAAAAAAAAGAEPAAGMhSm5AAAAAElFTkSuQmCC",
           "type": "image"
          }
         ],
         "layout": {
          "margin": {
           "t": 60
          }
         },
         "name": "28"
        },
        {
         "data": [
          {
           "name": "29",
           "source": "data:image/png;base64,iVBORw0KGgoAAAANSUhEUgAAAQAAAAEACAAAAAB5Gfe6AAAAVElEQVR4Xu3BAQEAAACAkP6v7ggKAAAAAAAAAAAAAAAAAAAAAAAAAAAAAAAAAAAAAAAAAAAAAAAAAAAAAAAAAAAAAAAAAAAAAAAAAAAAAAAAAAAAGAEPAAGMhSm5AAAAAElFTkSuQmCC",
           "type": "image"
          }
         ],
         "layout": {
          "margin": {
           "t": 60
          }
         },
         "name": "29"
        },
        {
         "data": [
          {
           "name": "30",
           "source": "data:image/png;base64,iVBORw0KGgoAAAANSUhEUgAAAQAAAAEACAAAAAB5Gfe6AAAAVElEQVR4Xu3BAQEAAACAkP6v7ggKAAAAAAAAAAAAAAAAAAAAAAAAAAAAAAAAAAAAAAAAAAAAAAAAAAAAAAAAAAAAAAAAAAAAAAAAAAAAAAAAAAAAGAEPAAGMhSm5AAAAAElFTkSuQmCC",
           "type": "image"
          }
         ],
         "layout": {
          "margin": {
           "t": 60
          }
         },
         "name": "30"
        },
        {
         "data": [
          {
           "name": "31",
           "source": "data:image/png;base64,iVBORw0KGgoAAAANSUhEUgAAAQAAAAEACAAAAAB5Gfe6AAAAVElEQVR4Xu3BAQEAAACAkP6v7ggKAAAAAAAAAAAAAAAAAAAAAAAAAAAAAAAAAAAAAAAAAAAAAAAAAAAAAAAAAAAAAAAAAAAAAAAAAAAAAAAAAAAAGAEPAAGMhSm5AAAAAElFTkSuQmCC",
           "type": "image"
          }
         ],
         "layout": {
          "margin": {
           "t": 60
          }
         },
         "name": "31"
        },
        {
         "data": [
          {
           "name": "32",
           "source": "data:image/png;base64,iVBORw0KGgoAAAANSUhEUgAAAQAAAAEACAAAAAB5Gfe6AAAAVElEQVR4Xu3BAQEAAACAkP6v7ggKAAAAAAAAAAAAAAAAAAAAAAAAAAAAAAAAAAAAAAAAAAAAAAAAAAAAAAAAAAAAAAAAAAAAAAAAAAAAAAAAAAAAGAEPAAGMhSm5AAAAAElFTkSuQmCC",
           "type": "image"
          }
         ],
         "layout": {
          "margin": {
           "t": 60
          }
         },
         "name": "32"
        }
       ],
       "layout": {
        "margin": {
         "t": 60
        },
        "sliders": [
         {
          "active": 0,
          "currentvalue": {
           "prefix": "ID="
          },
          "len": 0.9,
          "pad": {
           "b": 10,
           "t": 60
          },
          "steps": [
           {
            "args": [
             [
              "0"
             ],
             {
              "frame": {
               "duration": 0,
               "redraw": true
              },
              "fromcurrent": true,
              "mode": "immediate",
              "transition": {
               "duration": 0,
               "easing": "linear"
              }
             }
            ],
            "label": "0",
            "method": "animate"
           },
           {
            "args": [
             [
              "1"
             ],
             {
              "frame": {
               "duration": 0,
               "redraw": true
              },
              "fromcurrent": true,
              "mode": "immediate",
              "transition": {
               "duration": 0,
               "easing": "linear"
              }
             }
            ],
            "label": "1",
            "method": "animate"
           },
           {
            "args": [
             [
              "2"
             ],
             {
              "frame": {
               "duration": 0,
               "redraw": true
              },
              "fromcurrent": true,
              "mode": "immediate",
              "transition": {
               "duration": 0,
               "easing": "linear"
              }
             }
            ],
            "label": "2",
            "method": "animate"
           },
           {
            "args": [
             [
              "3"
             ],
             {
              "frame": {
               "duration": 0,
               "redraw": true
              },
              "fromcurrent": true,
              "mode": "immediate",
              "transition": {
               "duration": 0,
               "easing": "linear"
              }
             }
            ],
            "label": "3",
            "method": "animate"
           },
           {
            "args": [
             [
              "4"
             ],
             {
              "frame": {
               "duration": 0,
               "redraw": true
              },
              "fromcurrent": true,
              "mode": "immediate",
              "transition": {
               "duration": 0,
               "easing": "linear"
              }
             }
            ],
            "label": "4",
            "method": "animate"
           },
           {
            "args": [
             [
              "5"
             ],
             {
              "frame": {
               "duration": 0,
               "redraw": true
              },
              "fromcurrent": true,
              "mode": "immediate",
              "transition": {
               "duration": 0,
               "easing": "linear"
              }
             }
            ],
            "label": "5",
            "method": "animate"
           },
           {
            "args": [
             [
              "6"
             ],
             {
              "frame": {
               "duration": 0,
               "redraw": true
              },
              "fromcurrent": true,
              "mode": "immediate",
              "transition": {
               "duration": 0,
               "easing": "linear"
              }
             }
            ],
            "label": "6",
            "method": "animate"
           },
           {
            "args": [
             [
              "7"
             ],
             {
              "frame": {
               "duration": 0,
               "redraw": true
              },
              "fromcurrent": true,
              "mode": "immediate",
              "transition": {
               "duration": 0,
               "easing": "linear"
              }
             }
            ],
            "label": "7",
            "method": "animate"
           },
           {
            "args": [
             [
              "8"
             ],
             {
              "frame": {
               "duration": 0,
               "redraw": true
              },
              "fromcurrent": true,
              "mode": "immediate",
              "transition": {
               "duration": 0,
               "easing": "linear"
              }
             }
            ],
            "label": "8",
            "method": "animate"
           },
           {
            "args": [
             [
              "9"
             ],
             {
              "frame": {
               "duration": 0,
               "redraw": true
              },
              "fromcurrent": true,
              "mode": "immediate",
              "transition": {
               "duration": 0,
               "easing": "linear"
              }
             }
            ],
            "label": "9",
            "method": "animate"
           },
           {
            "args": [
             [
              "10"
             ],
             {
              "frame": {
               "duration": 0,
               "redraw": true
              },
              "fromcurrent": true,
              "mode": "immediate",
              "transition": {
               "duration": 0,
               "easing": "linear"
              }
             }
            ],
            "label": "10",
            "method": "animate"
           },
           {
            "args": [
             [
              "11"
             ],
             {
              "frame": {
               "duration": 0,
               "redraw": true
              },
              "fromcurrent": true,
              "mode": "immediate",
              "transition": {
               "duration": 0,
               "easing": "linear"
              }
             }
            ],
            "label": "11",
            "method": "animate"
           },
           {
            "args": [
             [
              "12"
             ],
             {
              "frame": {
               "duration": 0,
               "redraw": true
              },
              "fromcurrent": true,
              "mode": "immediate",
              "transition": {
               "duration": 0,
               "easing": "linear"
              }
             }
            ],
            "label": "12",
            "method": "animate"
           },
           {
            "args": [
             [
              "13"
             ],
             {
              "frame": {
               "duration": 0,
               "redraw": true
              },
              "fromcurrent": true,
              "mode": "immediate",
              "transition": {
               "duration": 0,
               "easing": "linear"
              }
             }
            ],
            "label": "13",
            "method": "animate"
           },
           {
            "args": [
             [
              "14"
             ],
             {
              "frame": {
               "duration": 0,
               "redraw": true
              },
              "fromcurrent": true,
              "mode": "immediate",
              "transition": {
               "duration": 0,
               "easing": "linear"
              }
             }
            ],
            "label": "14",
            "method": "animate"
           },
           {
            "args": [
             [
              "15"
             ],
             {
              "frame": {
               "duration": 0,
               "redraw": true
              },
              "fromcurrent": true,
              "mode": "immediate",
              "transition": {
               "duration": 0,
               "easing": "linear"
              }
             }
            ],
            "label": "15",
            "method": "animate"
           },
           {
            "args": [
             [
              "16"
             ],
             {
              "frame": {
               "duration": 0,
               "redraw": true
              },
              "fromcurrent": true,
              "mode": "immediate",
              "transition": {
               "duration": 0,
               "easing": "linear"
              }
             }
            ],
            "label": "16",
            "method": "animate"
           },
           {
            "args": [
             [
              "17"
             ],
             {
              "frame": {
               "duration": 0,
               "redraw": true
              },
              "fromcurrent": true,
              "mode": "immediate",
              "transition": {
               "duration": 0,
               "easing": "linear"
              }
             }
            ],
            "label": "17",
            "method": "animate"
           },
           {
            "args": [
             [
              "18"
             ],
             {
              "frame": {
               "duration": 0,
               "redraw": true
              },
              "fromcurrent": true,
              "mode": "immediate",
              "transition": {
               "duration": 0,
               "easing": "linear"
              }
             }
            ],
            "label": "18",
            "method": "animate"
           },
           {
            "args": [
             [
              "19"
             ],
             {
              "frame": {
               "duration": 0,
               "redraw": true
              },
              "fromcurrent": true,
              "mode": "immediate",
              "transition": {
               "duration": 0,
               "easing": "linear"
              }
             }
            ],
            "label": "19",
            "method": "animate"
           },
           {
            "args": [
             [
              "20"
             ],
             {
              "frame": {
               "duration": 0,
               "redraw": true
              },
              "fromcurrent": true,
              "mode": "immediate",
              "transition": {
               "duration": 0,
               "easing": "linear"
              }
             }
            ],
            "label": "20",
            "method": "animate"
           },
           {
            "args": [
             [
              "21"
             ],
             {
              "frame": {
               "duration": 0,
               "redraw": true
              },
              "fromcurrent": true,
              "mode": "immediate",
              "transition": {
               "duration": 0,
               "easing": "linear"
              }
             }
            ],
            "label": "21",
            "method": "animate"
           },
           {
            "args": [
             [
              "22"
             ],
             {
              "frame": {
               "duration": 0,
               "redraw": true
              },
              "fromcurrent": true,
              "mode": "immediate",
              "transition": {
               "duration": 0,
               "easing": "linear"
              }
             }
            ],
            "label": "22",
            "method": "animate"
           },
           {
            "args": [
             [
              "23"
             ],
             {
              "frame": {
               "duration": 0,
               "redraw": true
              },
              "fromcurrent": true,
              "mode": "immediate",
              "transition": {
               "duration": 0,
               "easing": "linear"
              }
             }
            ],
            "label": "23",
            "method": "animate"
           },
           {
            "args": [
             [
              "24"
             ],
             {
              "frame": {
               "duration": 0,
               "redraw": true
              },
              "fromcurrent": true,
              "mode": "immediate",
              "transition": {
               "duration": 0,
               "easing": "linear"
              }
             }
            ],
            "label": "24",
            "method": "animate"
           },
           {
            "args": [
             [
              "25"
             ],
             {
              "frame": {
               "duration": 0,
               "redraw": true
              },
              "fromcurrent": true,
              "mode": "immediate",
              "transition": {
               "duration": 0,
               "easing": "linear"
              }
             }
            ],
            "label": "25",
            "method": "animate"
           },
           {
            "args": [
             [
              "26"
             ],
             {
              "frame": {
               "duration": 0,
               "redraw": true
              },
              "fromcurrent": true,
              "mode": "immediate",
              "transition": {
               "duration": 0,
               "easing": "linear"
              }
             }
            ],
            "label": "26",
            "method": "animate"
           },
           {
            "args": [
             [
              "27"
             ],
             {
              "frame": {
               "duration": 0,
               "redraw": true
              },
              "fromcurrent": true,
              "mode": "immediate",
              "transition": {
               "duration": 0,
               "easing": "linear"
              }
             }
            ],
            "label": "27",
            "method": "animate"
           },
           {
            "args": [
             [
              "28"
             ],
             {
              "frame": {
               "duration": 0,
               "redraw": true
              },
              "fromcurrent": true,
              "mode": "immediate",
              "transition": {
               "duration": 0,
               "easing": "linear"
              }
             }
            ],
            "label": "28",
            "method": "animate"
           },
           {
            "args": [
             [
              "29"
             ],
             {
              "frame": {
               "duration": 0,
               "redraw": true
              },
              "fromcurrent": true,
              "mode": "immediate",
              "transition": {
               "duration": 0,
               "easing": "linear"
              }
             }
            ],
            "label": "29",
            "method": "animate"
           },
           {
            "args": [
             [
              "30"
             ],
             {
              "frame": {
               "duration": 0,
               "redraw": true
              },
              "fromcurrent": true,
              "mode": "immediate",
              "transition": {
               "duration": 0,
               "easing": "linear"
              }
             }
            ],
            "label": "30",
            "method": "animate"
           },
           {
            "args": [
             [
              "31"
             ],
             {
              "frame": {
               "duration": 0,
               "redraw": true
              },
              "fromcurrent": true,
              "mode": "immediate",
              "transition": {
               "duration": 0,
               "easing": "linear"
              }
             }
            ],
            "label": "31",
            "method": "animate"
           },
           {
            "args": [
             [
              "32"
             ],
             {
              "frame": {
               "duration": 0,
               "redraw": true
              },
              "fromcurrent": true,
              "mode": "immediate",
              "transition": {
               "duration": 0,
               "easing": "linear"
              }
             }
            ],
            "label": "32",
            "method": "animate"
           }
          ],
          "x": 0.1,
          "xanchor": "left",
          "y": 0,
          "yanchor": "top"
         }
        ],
        "template": {
         "data": {
          "bar": [
           {
            "error_x": {
             "color": "#2a3f5f"
            },
            "error_y": {
             "color": "#2a3f5f"
            },
            "marker": {
             "line": {
              "color": "#E5ECF6",
              "width": 0.5
             },
             "pattern": {
              "fillmode": "overlay",
              "size": 10,
              "solidity": 0.2
             }
            },
            "type": "bar"
           }
          ],
          "barpolar": [
           {
            "marker": {
             "line": {
              "color": "#E5ECF6",
              "width": 0.5
             },
             "pattern": {
              "fillmode": "overlay",
              "size": 10,
              "solidity": 0.2
             }
            },
            "type": "barpolar"
           }
          ],
          "carpet": [
           {
            "aaxis": {
             "endlinecolor": "#2a3f5f",
             "gridcolor": "white",
             "linecolor": "white",
             "minorgridcolor": "white",
             "startlinecolor": "#2a3f5f"
            },
            "baxis": {
             "endlinecolor": "#2a3f5f",
             "gridcolor": "white",
             "linecolor": "white",
             "minorgridcolor": "white",
             "startlinecolor": "#2a3f5f"
            },
            "type": "carpet"
           }
          ],
          "choropleth": [
           {
            "colorbar": {
             "outlinewidth": 0,
             "ticks": ""
            },
            "type": "choropleth"
           }
          ],
          "contour": [
           {
            "colorbar": {
             "outlinewidth": 0,
             "ticks": ""
            },
            "colorscale": [
             [
              0,
              "#0d0887"
             ],
             [
              0.1111111111111111,
              "#46039f"
             ],
             [
              0.2222222222222222,
              "#7201a8"
             ],
             [
              0.3333333333333333,
              "#9c179e"
             ],
             [
              0.4444444444444444,
              "#bd3786"
             ],
             [
              0.5555555555555556,
              "#d8576b"
             ],
             [
              0.6666666666666666,
              "#ed7953"
             ],
             [
              0.7777777777777778,
              "#fb9f3a"
             ],
             [
              0.8888888888888888,
              "#fdca26"
             ],
             [
              1,
              "#f0f921"
             ]
            ],
            "type": "contour"
           }
          ],
          "contourcarpet": [
           {
            "colorbar": {
             "outlinewidth": 0,
             "ticks": ""
            },
            "type": "contourcarpet"
           }
          ],
          "heatmap": [
           {
            "colorbar": {
             "outlinewidth": 0,
             "ticks": ""
            },
            "colorscale": [
             [
              0,
              "#0d0887"
             ],
             [
              0.1111111111111111,
              "#46039f"
             ],
             [
              0.2222222222222222,
              "#7201a8"
             ],
             [
              0.3333333333333333,
              "#9c179e"
             ],
             [
              0.4444444444444444,
              "#bd3786"
             ],
             [
              0.5555555555555556,
              "#d8576b"
             ],
             [
              0.6666666666666666,
              "#ed7953"
             ],
             [
              0.7777777777777778,
              "#fb9f3a"
             ],
             [
              0.8888888888888888,
              "#fdca26"
             ],
             [
              1,
              "#f0f921"
             ]
            ],
            "type": "heatmap"
           }
          ],
          "heatmapgl": [
           {
            "colorbar": {
             "outlinewidth": 0,
             "ticks": ""
            },
            "colorscale": [
             [
              0,
              "#0d0887"
             ],
             [
              0.1111111111111111,
              "#46039f"
             ],
             [
              0.2222222222222222,
              "#7201a8"
             ],
             [
              0.3333333333333333,
              "#9c179e"
             ],
             [
              0.4444444444444444,
              "#bd3786"
             ],
             [
              0.5555555555555556,
              "#d8576b"
             ],
             [
              0.6666666666666666,
              "#ed7953"
             ],
             [
              0.7777777777777778,
              "#fb9f3a"
             ],
             [
              0.8888888888888888,
              "#fdca26"
             ],
             [
              1,
              "#f0f921"
             ]
            ],
            "type": "heatmapgl"
           }
          ],
          "histogram": [
           {
            "marker": {
             "pattern": {
              "fillmode": "overlay",
              "size": 10,
              "solidity": 0.2
             }
            },
            "type": "histogram"
           }
          ],
          "histogram2d": [
           {
            "colorbar": {
             "outlinewidth": 0,
             "ticks": ""
            },
            "colorscale": [
             [
              0,
              "#0d0887"
             ],
             [
              0.1111111111111111,
              "#46039f"
             ],
             [
              0.2222222222222222,
              "#7201a8"
             ],
             [
              0.3333333333333333,
              "#9c179e"
             ],
             [
              0.4444444444444444,
              "#bd3786"
             ],
             [
              0.5555555555555556,
              "#d8576b"
             ],
             [
              0.6666666666666666,
              "#ed7953"
             ],
             [
              0.7777777777777778,
              "#fb9f3a"
             ],
             [
              0.8888888888888888,
              "#fdca26"
             ],
             [
              1,
              "#f0f921"
             ]
            ],
            "type": "histogram2d"
           }
          ],
          "histogram2dcontour": [
           {
            "colorbar": {
             "outlinewidth": 0,
             "ticks": ""
            },
            "colorscale": [
             [
              0,
              "#0d0887"
             ],
             [
              0.1111111111111111,
              "#46039f"
             ],
             [
              0.2222222222222222,
              "#7201a8"
             ],
             [
              0.3333333333333333,
              "#9c179e"
             ],
             [
              0.4444444444444444,
              "#bd3786"
             ],
             [
              0.5555555555555556,
              "#d8576b"
             ],
             [
              0.6666666666666666,
              "#ed7953"
             ],
             [
              0.7777777777777778,
              "#fb9f3a"
             ],
             [
              0.8888888888888888,
              "#fdca26"
             ],
             [
              1,
              "#f0f921"
             ]
            ],
            "type": "histogram2dcontour"
           }
          ],
          "mesh3d": [
           {
            "colorbar": {
             "outlinewidth": 0,
             "ticks": ""
            },
            "type": "mesh3d"
           }
          ],
          "parcoords": [
           {
            "line": {
             "colorbar": {
              "outlinewidth": 0,
              "ticks": ""
             }
            },
            "type": "parcoords"
           }
          ],
          "pie": [
           {
            "automargin": true,
            "type": "pie"
           }
          ],
          "scatter": [
           {
            "fillpattern": {
             "fillmode": "overlay",
             "size": 10,
             "solidity": 0.2
            },
            "type": "scatter"
           }
          ],
          "scatter3d": [
           {
            "line": {
             "colorbar": {
              "outlinewidth": 0,
              "ticks": ""
             }
            },
            "marker": {
             "colorbar": {
              "outlinewidth": 0,
              "ticks": ""
             }
            },
            "type": "scatter3d"
           }
          ],
          "scattercarpet": [
           {
            "marker": {
             "colorbar": {
              "outlinewidth": 0,
              "ticks": ""
             }
            },
            "type": "scattercarpet"
           }
          ],
          "scattergeo": [
           {
            "marker": {
             "colorbar": {
              "outlinewidth": 0,
              "ticks": ""
             }
            },
            "type": "scattergeo"
           }
          ],
          "scattergl": [
           {
            "marker": {
             "colorbar": {
              "outlinewidth": 0,
              "ticks": ""
             }
            },
            "type": "scattergl"
           }
          ],
          "scattermapbox": [
           {
            "marker": {
             "colorbar": {
              "outlinewidth": 0,
              "ticks": ""
             }
            },
            "type": "scattermapbox"
           }
          ],
          "scatterpolar": [
           {
            "marker": {
             "colorbar": {
              "outlinewidth": 0,
              "ticks": ""
             }
            },
            "type": "scatterpolar"
           }
          ],
          "scatterpolargl": [
           {
            "marker": {
             "colorbar": {
              "outlinewidth": 0,
              "ticks": ""
             }
            },
            "type": "scatterpolargl"
           }
          ],
          "scatterternary": [
           {
            "marker": {
             "colorbar": {
              "outlinewidth": 0,
              "ticks": ""
             }
            },
            "type": "scatterternary"
           }
          ],
          "surface": [
           {
            "colorbar": {
             "outlinewidth": 0,
             "ticks": ""
            },
            "colorscale": [
             [
              0,
              "#0d0887"
             ],
             [
              0.1111111111111111,
              "#46039f"
             ],
             [
              0.2222222222222222,
              "#7201a8"
             ],
             [
              0.3333333333333333,
              "#9c179e"
             ],
             [
              0.4444444444444444,
              "#bd3786"
             ],
             [
              0.5555555555555556,
              "#d8576b"
             ],
             [
              0.6666666666666666,
              "#ed7953"
             ],
             [
              0.7777777777777778,
              "#fb9f3a"
             ],
             [
              0.8888888888888888,
              "#fdca26"
             ],
             [
              1,
              "#f0f921"
             ]
            ],
            "type": "surface"
           }
          ],
          "table": [
           {
            "cells": {
             "fill": {
              "color": "#EBF0F8"
             },
             "line": {
              "color": "white"
             }
            },
            "header": {
             "fill": {
              "color": "#C8D4E3"
             },
             "line": {
              "color": "white"
             }
            },
            "type": "table"
           }
          ]
         },
         "layout": {
          "annotationdefaults": {
           "arrowcolor": "#2a3f5f",
           "arrowhead": 0,
           "arrowwidth": 1
          },
          "autotypenumbers": "strict",
          "coloraxis": {
           "colorbar": {
            "outlinewidth": 0,
            "ticks": ""
           }
          },
          "colorscale": {
           "diverging": [
            [
             0,
             "#8e0152"
            ],
            [
             0.1,
             "#c51b7d"
            ],
            [
             0.2,
             "#de77ae"
            ],
            [
             0.3,
             "#f1b6da"
            ],
            [
             0.4,
             "#fde0ef"
            ],
            [
             0.5,
             "#f7f7f7"
            ],
            [
             0.6,
             "#e6f5d0"
            ],
            [
             0.7,
             "#b8e186"
            ],
            [
             0.8,
             "#7fbc41"
            ],
            [
             0.9,
             "#4d9221"
            ],
            [
             1,
             "#276419"
            ]
           ],
           "sequential": [
            [
             0,
             "#0d0887"
            ],
            [
             0.1111111111111111,
             "#46039f"
            ],
            [
             0.2222222222222222,
             "#7201a8"
            ],
            [
             0.3333333333333333,
             "#9c179e"
            ],
            [
             0.4444444444444444,
             "#bd3786"
            ],
            [
             0.5555555555555556,
             "#d8576b"
            ],
            [
             0.6666666666666666,
             "#ed7953"
            ],
            [
             0.7777777777777778,
             "#fb9f3a"
            ],
            [
             0.8888888888888888,
             "#fdca26"
            ],
            [
             1,
             "#f0f921"
            ]
           ],
           "sequentialminus": [
            [
             0,
             "#0d0887"
            ],
            [
             0.1111111111111111,
             "#46039f"
            ],
            [
             0.2222222222222222,
             "#7201a8"
            ],
            [
             0.3333333333333333,
             "#9c179e"
            ],
            [
             0.4444444444444444,
             "#bd3786"
            ],
            [
             0.5555555555555556,
             "#d8576b"
            ],
            [
             0.6666666666666666,
             "#ed7953"
            ],
            [
             0.7777777777777778,
             "#fb9f3a"
            ],
            [
             0.8888888888888888,
             "#fdca26"
            ],
            [
             1,
             "#f0f921"
            ]
           ]
          },
          "colorway": [
           "#636efa",
           "#EF553B",
           "#00cc96",
           "#ab63fa",
           "#FFA15A",
           "#19d3f3",
           "#FF6692",
           "#B6E880",
           "#FF97FF",
           "#FECB52"
          ],
          "font": {
           "color": "#2a3f5f"
          },
          "geo": {
           "bgcolor": "white",
           "lakecolor": "white",
           "landcolor": "#E5ECF6",
           "showlakes": true,
           "showland": true,
           "subunitcolor": "white"
          },
          "hoverlabel": {
           "align": "left"
          },
          "hovermode": "closest",
          "mapbox": {
           "style": "light"
          },
          "paper_bgcolor": "white",
          "plot_bgcolor": "#E5ECF6",
          "polar": {
           "angularaxis": {
            "gridcolor": "white",
            "linecolor": "white",
            "ticks": ""
           },
           "bgcolor": "#E5ECF6",
           "radialaxis": {
            "gridcolor": "white",
            "linecolor": "white",
            "ticks": ""
           }
          },
          "scene": {
           "xaxis": {
            "backgroundcolor": "#E5ECF6",
            "gridcolor": "white",
            "gridwidth": 2,
            "linecolor": "white",
            "showbackground": true,
            "ticks": "",
            "zerolinecolor": "white"
           },
           "yaxis": {
            "backgroundcolor": "#E5ECF6",
            "gridcolor": "white",
            "gridwidth": 2,
            "linecolor": "white",
            "showbackground": true,
            "ticks": "",
            "zerolinecolor": "white"
           },
           "zaxis": {
            "backgroundcolor": "#E5ECF6",
            "gridcolor": "white",
            "gridwidth": 2,
            "linecolor": "white",
            "showbackground": true,
            "ticks": "",
            "zerolinecolor": "white"
           }
          },
          "shapedefaults": {
           "line": {
            "color": "#2a3f5f"
           }
          },
          "ternary": {
           "aaxis": {
            "gridcolor": "white",
            "linecolor": "white",
            "ticks": ""
           },
           "baxis": {
            "gridcolor": "white",
            "linecolor": "white",
            "ticks": ""
           },
           "bgcolor": "#E5ECF6",
           "caxis": {
            "gridcolor": "white",
            "linecolor": "white",
            "ticks": ""
           }
          },
          "title": {
           "x": 0.05
          },
          "xaxis": {
           "automargin": true,
           "gridcolor": "white",
           "linecolor": "white",
           "ticks": "",
           "title": {
            "standoff": 15
           },
           "zerolinecolor": "white",
           "zerolinewidth": 2
          },
          "yaxis": {
           "automargin": true,
           "gridcolor": "white",
           "linecolor": "white",
           "ticks": "",
           "title": {
            "standoff": 15
           },
           "zerolinecolor": "white",
           "zerolinewidth": 2
          }
         }
        },
        "updatemenus": [
         {
          "buttons": [
           {
            "args": [
             null,
             {
              "frame": {
               "duration": 500,
               "redraw": true
              },
              "fromcurrent": true,
              "mode": "immediate",
              "transition": {
               "duration": 500,
               "easing": "linear"
              }
             }
            ],
            "label": "&#9654;",
            "method": "animate"
           },
           {
            "args": [
             [
              null
             ],
             {
              "frame": {
               "duration": 0,
               "redraw": true
              },
              "fromcurrent": true,
              "mode": "immediate",
              "transition": {
               "duration": 0,
               "easing": "linear"
              }
             }
            ],
            "label": "&#9724;",
            "method": "animate"
           }
          ],
          "direction": "left",
          "pad": {
           "r": 10,
           "t": 70
          },
          "showactive": false,
          "type": "buttons",
          "x": 0.1,
          "xanchor": "right",
          "y": 0,
          "yanchor": "top"
         }
        ],
        "xaxis": {
         "anchor": "y",
         "domain": [
          0,
          1
         ]
        },
        "yaxis": {
         "anchor": "x",
         "domain": [
          0,
          1
         ]
        }
       }
      }
     },
     "metadata": {},
     "output_type": "display_data"
    }
   ],
   "source": [
    "fig = px.imshow(masks_list, color_continuous_scale='gray', animation_frame=0, binary_string=True, labels=dict(animation_frame=\"ID\"))\n",
    "fig.show()"
   ]
  }
 ],
 "metadata": {
  "kernelspec": {
   "display_name": "base",
   "language": "python",
   "name": "python3"
  },
  "language_info": {
   "codemirror_mode": {
    "name": "ipython",
    "version": 3
   },
   "file_extension": ".py",
   "mimetype": "text/x-python",
   "name": "python",
   "nbconvert_exporter": "python",
   "pygments_lexer": "ipython3",
   "version": "3.9.13"
  },
  "orig_nbformat": 4
 },
 "nbformat": 4,
 "nbformat_minor": 2
}
